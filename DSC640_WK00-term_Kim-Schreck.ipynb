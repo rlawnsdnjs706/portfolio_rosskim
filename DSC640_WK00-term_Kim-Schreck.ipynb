{
 "cells": [
  {
   "cell_type": "markdown",
   "id": "25c30966-7f0d-4048-840d-2bfab26b5876",
   "metadata": {},
   "source": [
    "# imports# DSC640_WK00-term_Kim-Schreck"
   ]
  },
  {
   "cell_type": "code",
   "execution_count": null,
   "id": "49f10e1f-0cfa-4c0b-abc7-5da1d20254f6",
   "metadata": {},
   "outputs": [],
   "source": [
    "# imports"
   ]
  },
  {
   "cell_type": "markdown",
   "id": "e417f7aa-aea4-4025-96df-744de51624f6",
   "metadata": {},
   "source": [
    "# DSC640_WK03-04_term_ms01_02.03"
   ]
  },
  {
   "cell_type": "code",
   "execution_count": null,
   "id": "518db5e1-2543-48bc-aee7-595b23078368",
   "metadata": {},
   "outputs": [],
   "source": [
    "# 02.03.00\n",
    "\n",
    "## DSC640_term_milestone01_Schreck-Kim.pdf"
   ]
  },
  {
   "cell_type": "markdown",
   "id": "99e78fdc-0167-4424-8421-87d28ca92a31",
   "metadata": {},
   "source": [
    "# DSC640_WK05-06_term_ms02_03.03"
   ]
  },
  {
   "cell_type": "code",
   "execution_count": null,
   "id": "181e8afc-a0bc-41d3-aafd-c5b28434b3cd",
   "metadata": {},
   "outputs": [],
   "source": [
    "# 03.03.00\n",
    "\n",
    "## DSC640_term_milestone02_Schreck-Kim.pdf"
   ]
  },
  {
   "cell_type": "markdown",
   "id": "1284ef7e-55fc-4064-932b-1f4e69969c65",
   "metadata": {},
   "source": [
    "# DSC640_WK07-08_term_ms03_04.03"
   ]
  },
  {
   "cell_type": "code",
   "execution_count": null,
   "id": "30c816a4-0303-41f3-a59d-1442cdb5b403",
   "metadata": {},
   "outputs": [],
   "source": [
    "# 04.03.00\n",
    "\n",
    "## DSC640_term_milestone03_Schreck-Kim.pdf"
   ]
  },
  {
   "cell_type": "markdown",
   "id": "2a44023f-6c37-41da-a7f9-1f35677d2ef2",
   "metadata": {},
   "source": [
    "# DSC640_WK09-10_term_ms04_05.03"
   ]
  },
  {
   "cell_type": "code",
   "execution_count": null,
   "id": "fc5c06cd-85db-4ff1-ba0c-c46b9b054ae6",
   "metadata": {},
   "outputs": [],
   "source": [
    "# 05.03.00\n",
    "\n",
    "## DSC640_term_milestone04_Schreck-Kim.pdf"
   ]
  },
  {
   "cell_type": "markdown",
   "id": "986cb18c-5792-4c06-aa08-4bf71300e8fe",
   "metadata": {},
   "source": [
    "# DSC640_WK11-12_term_ms05_06.03"
   ]
  },
  {
   "cell_type": "code",
   "execution_count": null,
   "id": "cae9e5f1-5798-4640-88ef-be01c1bcb50e",
   "metadata": {},
   "outputs": [],
   "source": [
    "# 06.03.00\n",
    "\n",
    "## DSC640_term_milestone05_Schreck-Kim.pdf"
   ]
  }
 ],
 "metadata": {
  "kernelspec": {
   "display_name": "Python 3 (ipykernel)",
   "language": "python",
   "name": "python3"
  },
  "language_info": {
   "codemirror_mode": {
    "name": "ipython",
    "version": 3
   },
   "file_extension": ".py",
   "mimetype": "text/x-python",
   "name": "python",
   "nbconvert_exporter": "python",
   "pygments_lexer": "ipython3",
   "version": "3.11.8"
  }
 },
 "nbformat": 4,
 "nbformat_minor": 5
}
