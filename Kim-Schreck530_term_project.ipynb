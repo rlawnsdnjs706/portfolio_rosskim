{
 "cells": [
  {
   "cell_type": "markdown",
   "id": "34810fdc-9bd7-41e8-9818-ff9cb5768f59",
   "metadata": {},
   "source": [
    "### 23.11.18\n",
    "# DSC530 Data Exploration and Analysis, Term Project, Ross Kim (Schreck)"
   ]
  },
  {
   "cell_type": "markdown",
   "id": "4784ac6a-c96a-4655-863d-6372ac796e87",
   "metadata": {
    "tags": []
   },
   "source": [
    "# comments"
   ]
  },
  {
   "cell_type": "code",
   "execution_count": 99,
   "id": "e4dbc4f8-2176-4a84-b406-af9e542371c5",
   "metadata": {
    "tags": []
   },
   "outputs": [],
   "source": [
    "## GIT link: https://github.com/rlawnsdnjs706/DSC530_term.git\n",
    "\n",
    "# A minimum of 5 variables in your dataset used during your analysis (for help with selecting, \n",
    "# the author made his selection on page 6 of your book). \n",
    "# Consider what you think could have an impact on your question – \n",
    "# remember this is never perfect, so don’t be worried if you miss one (Chapter 1).\n",
    "\n",
    "# Describe what the 5 variables mean in the dataset (Chapter 1).\n",
    "\n",
    "## Variables:\n",
    "## Birth - total number of births in the year\n",
    "## Birth rate - the ratio between the number of liveborn births in the year and the average total population of that year\n",
    "## Death - total number of deaths in the year\n",
    "## Death rate - the ratio between the number of death in the year and the average total population of that year\n",
    "## Divorce - total number of divorces in the year\n",
    "## Divorce rate - the ratio between the number of divorces in the year and the average total population of that year\n",
    "## Marriage - total number of marriages in the year\n",
    "## Marriage rate - the ratio between the number of marriages in the year and the average total population of that year\n",
    "## Natural growth - total difference between births and deaths in the year\n",
    "## Natural growth rate - the ratio between the number of births and deaths of the average total population of that year"
   ]
  },
  {
   "cell_type": "code",
   "execution_count": 100,
   "id": "b4f756f9-1f08-43a7-a108-be90c1958951",
   "metadata": {
    "tags": []
   },
   "outputs": [],
   "source": [
    "# imports\n",
    "\n",
    "import pandas as pd\n",
    "import numpy as np\n",
    "import pandas as pd\n",
    "import thinkstats2\n",
    "import thinkplot\n",
    "import matplotlib.pyplot as plt\n",
    "import datetime\n",
    "import statistics\n",
    "import first\n",
    "from scipy.stats import poisson\n",
    "from sklearn.linear_model import LinearRegression\n",
    "from sklearn.preprocessing import PolynomialFeatures"
   ]
  },
  {
   "cell_type": "code",
   "execution_count": 101,
   "id": "051c287b-232a-4996-acbe-8f552d61a041",
   "metadata": {
    "tags": []
   },
   "outputs": [],
   "source": [
    "# import dataset as dt\n",
    "\n",
    "dt = pd.read_csv('ROK_demographics_2000-2022.csv')"
   ]
  },
  {
   "cell_type": "code",
   "execution_count": 102,
   "id": "2f9de158-44cf-4b26-ab1f-c4fdee0d6bd7",
   "metadata": {
    "tags": []
   },
   "outputs": [
    {
     "data": {
      "text/html": [
       "<div>\n",
       "<style scoped>\n",
       "    .dataframe tbody tr th:only-of-type {\n",
       "        vertical-align: middle;\n",
       "    }\n",
       "\n",
       "    .dataframe tbody tr th {\n",
       "        vertical-align: top;\n",
       "    }\n",
       "\n",
       "    .dataframe thead th {\n",
       "        text-align: right;\n",
       "    }\n",
       "</style>\n",
       "<table border=\"1\" class=\"dataframe\">\n",
       "  <thead>\n",
       "    <tr style=\"text-align: right;\">\n",
       "      <th></th>\n",
       "      <th>Date</th>\n",
       "      <th>Region</th>\n",
       "      <th>Birth</th>\n",
       "      <th>Birth_rate</th>\n",
       "      <th>Death</th>\n",
       "      <th>Death_rate</th>\n",
       "      <th>Divorce</th>\n",
       "      <th>Divorce_rate</th>\n",
       "      <th>Marriage</th>\n",
       "      <th>Marriage_rate</th>\n",
       "      <th>Natural_growth</th>\n",
       "      <th>Natural_growth_rate</th>\n",
       "    </tr>\n",
       "  </thead>\n",
       "  <tbody>\n",
       "    <tr>\n",
       "      <th>0</th>\n",
       "      <td>1/1/2000</td>\n",
       "      <td>Busan</td>\n",
       "      <td>3752.0</td>\n",
       "      <td>11.61</td>\n",
       "      <td>1875.0</td>\n",
       "      <td>5.8</td>\n",
       "      <td>814.0</td>\n",
       "      <td>2.5</td>\n",
       "      <td>2435.0</td>\n",
       "      <td>7.5</td>\n",
       "      <td>1877.0</td>\n",
       "      <td>5.8</td>\n",
       "    </tr>\n",
       "    <tr>\n",
       "      <th>1</th>\n",
       "      <td>1/1/2000</td>\n",
       "      <td>Chungcheongbuk-do</td>\n",
       "      <td>1903.0</td>\n",
       "      <td>15.06</td>\n",
       "      <td>924.0</td>\n",
       "      <td>7.3</td>\n",
       "      <td>220.0</td>\n",
       "      <td>1.7</td>\n",
       "      <td>828.0</td>\n",
       "      <td>6.6</td>\n",
       "      <td>979.0</td>\n",
       "      <td>7.7</td>\n",
       "    </tr>\n",
       "    <tr>\n",
       "      <th>2</th>\n",
       "      <td>1/1/2000</td>\n",
       "      <td>Chungcheongnam-do</td>\n",
       "      <td>2398.0</td>\n",
       "      <td>14.75</td>\n",
       "      <td>1466.0</td>\n",
       "      <td>9.0</td>\n",
       "      <td>321.0</td>\n",
       "      <td>2.0</td>\n",
       "      <td>1055.0</td>\n",
       "      <td>6.5</td>\n",
       "      <td>932.0</td>\n",
       "      <td>5.7</td>\n",
       "    </tr>\n",
       "    <tr>\n",
       "      <th>3</th>\n",
       "      <td>1/1/2000</td>\n",
       "      <td>Daegu</td>\n",
       "      <td>3057.0</td>\n",
       "      <td>14.39</td>\n",
       "      <td>1117.0</td>\n",
       "      <td>5.3</td>\n",
       "      <td>422.0</td>\n",
       "      <td>2.0</td>\n",
       "      <td>1577.0</td>\n",
       "      <td>7.4</td>\n",
       "      <td>1940.0</td>\n",
       "      <td>9.1</td>\n",
       "    </tr>\n",
       "    <tr>\n",
       "      <th>4</th>\n",
       "      <td>1/1/2000</td>\n",
       "      <td>Daejeon</td>\n",
       "      <td>1859.0</td>\n",
       "      <td>16.08</td>\n",
       "      <td>565.0</td>\n",
       "      <td>4.9</td>\n",
       "      <td>280.0</td>\n",
       "      <td>2.4</td>\n",
       "      <td>868.0</td>\n",
       "      <td>7.5</td>\n",
       "      <td>1294.0</td>\n",
       "      <td>11.2</td>\n",
       "    </tr>\n",
       "  </tbody>\n",
       "</table>\n",
       "</div>"
      ],
      "text/plain": [
       "       Date             Region   Birth  Birth_rate   Death  Death_rate  \\\n",
       "0  1/1/2000              Busan  3752.0       11.61  1875.0         5.8   \n",
       "1  1/1/2000  Chungcheongbuk-do  1903.0       15.06   924.0         7.3   \n",
       "2  1/1/2000  Chungcheongnam-do  2398.0       14.75  1466.0         9.0   \n",
       "3  1/1/2000              Daegu  3057.0       14.39  1117.0         5.3   \n",
       "4  1/1/2000            Daejeon  1859.0       16.08   565.0         4.9   \n",
       "\n",
       "   Divorce  Divorce_rate  Marriage  Marriage_rate  Natural_growth  \\\n",
       "0    814.0           2.5    2435.0            7.5          1877.0   \n",
       "1    220.0           1.7     828.0            6.6           979.0   \n",
       "2    321.0           2.0    1055.0            6.5           932.0   \n",
       "3    422.0           2.0    1577.0            7.4          1940.0   \n",
       "4    280.0           2.4     868.0            7.5          1294.0   \n",
       "\n",
       "   Natural_growth_rate  \n",
       "0                  5.8  \n",
       "1                  7.7  \n",
       "2                  5.7  \n",
       "3                  9.1  \n",
       "4                 11.2  "
      ]
     },
     "execution_count": 102,
     "metadata": {},
     "output_type": "execute_result"
    }
   ],
   "source": [
    "# return head\n",
    "\n",
    "dt.head()"
   ]
  },
  {
   "cell_type": "code",
   "execution_count": 103,
   "id": "7adb3a33-261b-4b04-802e-140beb5371db",
   "metadata": {
    "tags": []
   },
   "outputs": [
    {
     "data": {
      "text/html": [
       "<div>\n",
       "<style scoped>\n",
       "    .dataframe tbody tr th:only-of-type {\n",
       "        vertical-align: middle;\n",
       "    }\n",
       "\n",
       "    .dataframe tbody tr th {\n",
       "        vertical-align: top;\n",
       "    }\n",
       "\n",
       "    .dataframe thead th {\n",
       "        text-align: right;\n",
       "    }\n",
       "</style>\n",
       "<table border=\"1\" class=\"dataframe\">\n",
       "  <thead>\n",
       "    <tr style=\"text-align: right;\">\n",
       "      <th></th>\n",
       "      <th>Date</th>\n",
       "      <th>Region</th>\n",
       "      <th>Birth</th>\n",
       "      <th>Birth_rate</th>\n",
       "      <th>Death</th>\n",
       "      <th>Death_rate</th>\n",
       "      <th>Divorce</th>\n",
       "      <th>Divorce_rate</th>\n",
       "      <th>Marriage</th>\n",
       "      <th>Marriage_rate</th>\n",
       "      <th>Natural_growth</th>\n",
       "      <th>Natural_growth_rate</th>\n",
       "    </tr>\n",
       "  </thead>\n",
       "  <tbody>\n",
       "    <tr>\n",
       "      <th>0</th>\n",
       "      <td>2000-01-01</td>\n",
       "      <td>Busan</td>\n",
       "      <td>3752.0</td>\n",
       "      <td>11.61</td>\n",
       "      <td>1875.0</td>\n",
       "      <td>5.8</td>\n",
       "      <td>814.0</td>\n",
       "      <td>2.5</td>\n",
       "      <td>2435.0</td>\n",
       "      <td>7.5</td>\n",
       "      <td>1877.0</td>\n",
       "      <td>5.8</td>\n",
       "    </tr>\n",
       "    <tr>\n",
       "      <th>1</th>\n",
       "      <td>2000-01-01</td>\n",
       "      <td>Chungcheongbuk-do</td>\n",
       "      <td>1903.0</td>\n",
       "      <td>15.06</td>\n",
       "      <td>924.0</td>\n",
       "      <td>7.3</td>\n",
       "      <td>220.0</td>\n",
       "      <td>1.7</td>\n",
       "      <td>828.0</td>\n",
       "      <td>6.6</td>\n",
       "      <td>979.0</td>\n",
       "      <td>7.7</td>\n",
       "    </tr>\n",
       "    <tr>\n",
       "      <th>2</th>\n",
       "      <td>2000-01-01</td>\n",
       "      <td>Chungcheongnam-do</td>\n",
       "      <td>2398.0</td>\n",
       "      <td>14.75</td>\n",
       "      <td>1466.0</td>\n",
       "      <td>9.0</td>\n",
       "      <td>321.0</td>\n",
       "      <td>2.0</td>\n",
       "      <td>1055.0</td>\n",
       "      <td>6.5</td>\n",
       "      <td>932.0</td>\n",
       "      <td>5.7</td>\n",
       "    </tr>\n",
       "    <tr>\n",
       "      <th>3</th>\n",
       "      <td>2000-01-01</td>\n",
       "      <td>Daegu</td>\n",
       "      <td>3057.0</td>\n",
       "      <td>14.39</td>\n",
       "      <td>1117.0</td>\n",
       "      <td>5.3</td>\n",
       "      <td>422.0</td>\n",
       "      <td>2.0</td>\n",
       "      <td>1577.0</td>\n",
       "      <td>7.4</td>\n",
       "      <td>1940.0</td>\n",
       "      <td>9.1</td>\n",
       "    </tr>\n",
       "    <tr>\n",
       "      <th>4</th>\n",
       "      <td>2000-01-01</td>\n",
       "      <td>Daejeon</td>\n",
       "      <td>1859.0</td>\n",
       "      <td>16.08</td>\n",
       "      <td>565.0</td>\n",
       "      <td>4.9</td>\n",
       "      <td>280.0</td>\n",
       "      <td>2.4</td>\n",
       "      <td>868.0</td>\n",
       "      <td>7.5</td>\n",
       "      <td>1294.0</td>\n",
       "      <td>11.2</td>\n",
       "    </tr>\n",
       "  </tbody>\n",
       "</table>\n",
       "</div>"
      ],
      "text/plain": [
       "        Date             Region   Birth  Birth_rate   Death  Death_rate  \\\n",
       "0 2000-01-01              Busan  3752.0       11.61  1875.0         5.8   \n",
       "1 2000-01-01  Chungcheongbuk-do  1903.0       15.06   924.0         7.3   \n",
       "2 2000-01-01  Chungcheongnam-do  2398.0       14.75  1466.0         9.0   \n",
       "3 2000-01-01              Daegu  3057.0       14.39  1117.0         5.3   \n",
       "4 2000-01-01            Daejeon  1859.0       16.08   565.0         4.9   \n",
       "\n",
       "   Divorce  Divorce_rate  Marriage  Marriage_rate  Natural_growth  \\\n",
       "0    814.0           2.5    2435.0            7.5          1877.0   \n",
       "1    220.0           1.7     828.0            6.6           979.0   \n",
       "2    321.0           2.0    1055.0            6.5           932.0   \n",
       "3    422.0           2.0    1577.0            7.4          1940.0   \n",
       "4    280.0           2.4     868.0            7.5          1294.0   \n",
       "\n",
       "   Natural_growth_rate  \n",
       "0                  5.8  \n",
       "1                  7.7  \n",
       "2                  5.7  \n",
       "3                  9.1  \n",
       "4                 11.2  "
      ]
     },
     "execution_count": 103,
     "metadata": {},
     "output_type": "execute_result"
    }
   ],
   "source": [
    "# convert integer date column to dates in international format\n",
    "\n",
    "dt['Date'] = pd.to_datetime(dt['Date'], format='%m/%d/%Y')\n",
    "dt.head()"
   ]
  },
  {
   "cell_type": "code",
   "execution_count": 104,
   "id": "4d4352b0-5486-4ebc-b0ba-148fa832b7e0",
   "metadata": {
    "tags": []
   },
   "outputs": [],
   "source": [
    "# add index column\n",
    "\n",
    "dt.insert(0, 'ID', range(0, 0 + len(dt)))"
   ]
  },
  {
   "cell_type": "code",
   "execution_count": 105,
   "id": "8496155c-ee0d-40c9-b8fc-8cc9fcab73a5",
   "metadata": {
    "tags": []
   },
   "outputs": [
    {
     "data": {
      "text/html": [
       "<div>\n",
       "<style scoped>\n",
       "    .dataframe tbody tr th:only-of-type {\n",
       "        vertical-align: middle;\n",
       "    }\n",
       "\n",
       "    .dataframe tbody tr th {\n",
       "        vertical-align: top;\n",
       "    }\n",
       "\n",
       "    .dataframe thead th {\n",
       "        text-align: right;\n",
       "    }\n",
       "</style>\n",
       "<table border=\"1\" class=\"dataframe\">\n",
       "  <thead>\n",
       "    <tr style=\"text-align: right;\">\n",
       "      <th></th>\n",
       "      <th>ID</th>\n",
       "      <th>Date</th>\n",
       "      <th>Birth</th>\n",
       "      <th>Birth_rate</th>\n",
       "      <th>Death</th>\n",
       "      <th>Death_rate</th>\n",
       "      <th>Divorce</th>\n",
       "      <th>Divorce_rate</th>\n",
       "      <th>Marriage</th>\n",
       "      <th>Marriage_rate</th>\n",
       "      <th>Natural_growth</th>\n",
       "      <th>Natural_growth_rate</th>\n",
       "    </tr>\n",
       "    <tr>\n",
       "      <th>Region</th>\n",
       "      <th></th>\n",
       "      <th></th>\n",
       "      <th></th>\n",
       "      <th></th>\n",
       "      <th></th>\n",
       "      <th></th>\n",
       "      <th></th>\n",
       "      <th></th>\n",
       "      <th></th>\n",
       "      <th></th>\n",
       "      <th></th>\n",
       "      <th></th>\n",
       "    </tr>\n",
       "  </thead>\n",
       "  <tbody>\n",
       "    <tr>\n",
       "      <th>Seoul</th>\n",
       "      <td>15</td>\n",
       "      <td>2000-01-01</td>\n",
       "      <td>12866.0</td>\n",
       "      <td>14.79</td>\n",
       "      <td>3931.0</td>\n",
       "      <td>4.5</td>\n",
       "      <td>1835.0</td>\n",
       "      <td>2.1</td>\n",
       "      <td>6781.0</td>\n",
       "      <td>7.8</td>\n",
       "      <td>8935.0</td>\n",
       "      <td>10.3</td>\n",
       "    </tr>\n",
       "    <tr>\n",
       "      <th>Seoul</th>\n",
       "      <td>33</td>\n",
       "      <td>2000-02-01</td>\n",
       "      <td>11797.0</td>\n",
       "      <td>14.48</td>\n",
       "      <td>3218.0</td>\n",
       "      <td>4.0</td>\n",
       "      <td>1912.0</td>\n",
       "      <td>2.3</td>\n",
       "      <td>5596.0</td>\n",
       "      <td>6.9</td>\n",
       "      <td>8579.0</td>\n",
       "      <td>10.5</td>\n",
       "    </tr>\n",
       "    <tr>\n",
       "      <th>Seoul</th>\n",
       "      <td>51</td>\n",
       "      <td>2000-03-01</td>\n",
       "      <td>12453.0</td>\n",
       "      <td>14.29</td>\n",
       "      <td>3368.0</td>\n",
       "      <td>3.9</td>\n",
       "      <td>2333.0</td>\n",
       "      <td>2.7</td>\n",
       "      <td>6781.0</td>\n",
       "      <td>7.8</td>\n",
       "      <td>9085.0</td>\n",
       "      <td>10.4</td>\n",
       "    </tr>\n",
       "    <tr>\n",
       "      <th>Seoul</th>\n",
       "      <td>69</td>\n",
       "      <td>2000-04-01</td>\n",
       "      <td>10782.0</td>\n",
       "      <td>12.77</td>\n",
       "      <td>3204.0</td>\n",
       "      <td>3.8</td>\n",
       "      <td>1916.0</td>\n",
       "      <td>2.3</td>\n",
       "      <td>6667.0</td>\n",
       "      <td>7.9</td>\n",
       "      <td>7578.0</td>\n",
       "      <td>9.0</td>\n",
       "    </tr>\n",
       "    <tr>\n",
       "      <th>Seoul</th>\n",
       "      <td>87</td>\n",
       "      <td>2000-05-01</td>\n",
       "      <td>10817.0</td>\n",
       "      <td>12.39</td>\n",
       "      <td>3064.0</td>\n",
       "      <td>3.5</td>\n",
       "      <td>2108.0</td>\n",
       "      <td>2.4</td>\n",
       "      <td>8428.0</td>\n",
       "      <td>9.7</td>\n",
       "      <td>7753.0</td>\n",
       "      <td>8.9</td>\n",
       "    </tr>\n",
       "    <tr>\n",
       "      <th>...</th>\n",
       "      <td>...</td>\n",
       "      <td>...</td>\n",
       "      <td>...</td>\n",
       "      <td>...</td>\n",
       "      <td>...</td>\n",
       "      <td>...</td>\n",
       "      <td>...</td>\n",
       "      <td>...</td>\n",
       "      <td>...</td>\n",
       "      <td>...</td>\n",
       "      <td>...</td>\n",
       "      <td>...</td>\n",
       "    </tr>\n",
       "    <tr>\n",
       "      <th>Seoul</th>\n",
       "      <td>4785</td>\n",
       "      <td>2022-02-01</td>\n",
       "      <td>3452.0</td>\n",
       "      <td>4.80</td>\n",
       "      <td>4511.0</td>\n",
       "      <td>6.3</td>\n",
       "      <td>1007.0</td>\n",
       "      <td>1.4</td>\n",
       "      <td>2979.0</td>\n",
       "      <td>4.1</td>\n",
       "      <td>-1059.0</td>\n",
       "      <td>-1.5</td>\n",
       "    </tr>\n",
       "    <tr>\n",
       "      <th>Seoul</th>\n",
       "      <td>4803</td>\n",
       "      <td>2022-03-01</td>\n",
       "      <td>4002.0</td>\n",
       "      <td>5.00</td>\n",
       "      <td>6529.0</td>\n",
       "      <td>8.2</td>\n",
       "      <td>1084.0</td>\n",
       "      <td>1.4</td>\n",
       "      <td>2774.0</td>\n",
       "      <td>3.5</td>\n",
       "      <td>-2527.0</td>\n",
       "      <td>-3.2</td>\n",
       "    </tr>\n",
       "    <tr>\n",
       "      <th>Seoul</th>\n",
       "      <td>4821</td>\n",
       "      <td>2022-04-01</td>\n",
       "      <td>3603.0</td>\n",
       "      <td>4.70</td>\n",
       "      <td>5351.0</td>\n",
       "      <td>6.9</td>\n",
       "      <td>1056.0</td>\n",
       "      <td>1.4</td>\n",
       "      <td>2844.0</td>\n",
       "      <td>3.7</td>\n",
       "      <td>-1747.0</td>\n",
       "      <td>-2.3</td>\n",
       "    </tr>\n",
       "    <tr>\n",
       "      <th>Seoul</th>\n",
       "      <td>4839</td>\n",
       "      <td>2022-05-01</td>\n",
       "      <td>3372.0</td>\n",
       "      <td>4.20</td>\n",
       "      <td>4172.0</td>\n",
       "      <td>5.2</td>\n",
       "      <td>1263.0</td>\n",
       "      <td>1.6</td>\n",
       "      <td>3259.0</td>\n",
       "      <td>4.1</td>\n",
       "      <td>-800.0</td>\n",
       "      <td>-1.0</td>\n",
       "    </tr>\n",
       "    <tr>\n",
       "      <th>Seoul</th>\n",
       "      <td>4857</td>\n",
       "      <td>2022-06-01</td>\n",
       "      <td>3137.0</td>\n",
       "      <td>4.10</td>\n",
       "      <td>3631.0</td>\n",
       "      <td>4.7</td>\n",
       "      <td>1088.0</td>\n",
       "      <td>1.4</td>\n",
       "      <td>2630.0</td>\n",
       "      <td>3.4</td>\n",
       "      <td>-494.0</td>\n",
       "      <td>-0.6</td>\n",
       "    </tr>\n",
       "  </tbody>\n",
       "</table>\n",
       "<p>270 rows × 12 columns</p>\n",
       "</div>"
      ],
      "text/plain": [
       "          ID       Date    Birth  Birth_rate   Death  Death_rate  Divorce  \\\n",
       "Region                                                                      \n",
       "Seoul     15 2000-01-01  12866.0       14.79  3931.0         4.5   1835.0   \n",
       "Seoul     33 2000-02-01  11797.0       14.48  3218.0         4.0   1912.0   \n",
       "Seoul     51 2000-03-01  12453.0       14.29  3368.0         3.9   2333.0   \n",
       "Seoul     69 2000-04-01  10782.0       12.77  3204.0         3.8   1916.0   \n",
       "Seoul     87 2000-05-01  10817.0       12.39  3064.0         3.5   2108.0   \n",
       "...      ...        ...      ...         ...     ...         ...      ...   \n",
       "Seoul   4785 2022-02-01   3452.0        4.80  4511.0         6.3   1007.0   \n",
       "Seoul   4803 2022-03-01   4002.0        5.00  6529.0         8.2   1084.0   \n",
       "Seoul   4821 2022-04-01   3603.0        4.70  5351.0         6.9   1056.0   \n",
       "Seoul   4839 2022-05-01   3372.0        4.20  4172.0         5.2   1263.0   \n",
       "Seoul   4857 2022-06-01   3137.0        4.10  3631.0         4.7   1088.0   \n",
       "\n",
       "        Divorce_rate  Marriage  Marriage_rate  Natural_growth  \\\n",
       "Region                                                          \n",
       "Seoul            2.1    6781.0            7.8          8935.0   \n",
       "Seoul            2.3    5596.0            6.9          8579.0   \n",
       "Seoul            2.7    6781.0            7.8          9085.0   \n",
       "Seoul            2.3    6667.0            7.9          7578.0   \n",
       "Seoul            2.4    8428.0            9.7          7753.0   \n",
       "...              ...       ...            ...             ...   \n",
       "Seoul            1.4    2979.0            4.1         -1059.0   \n",
       "Seoul            1.4    2774.0            3.5         -2527.0   \n",
       "Seoul            1.4    2844.0            3.7         -1747.0   \n",
       "Seoul            1.6    3259.0            4.1          -800.0   \n",
       "Seoul            1.4    2630.0            3.4          -494.0   \n",
       "\n",
       "        Natural_growth_rate  \n",
       "Region                       \n",
       "Seoul                  10.3  \n",
       "Seoul                  10.5  \n",
       "Seoul                  10.4  \n",
       "Seoul                   9.0  \n",
       "Seoul                   8.9  \n",
       "...                     ...  \n",
       "Seoul                  -1.5  \n",
       "Seoul                  -3.2  \n",
       "Seoul                  -2.3  \n",
       "Seoul                  -1.0  \n",
       "Seoul                  -0.6  \n",
       "\n",
       "[270 rows x 12 columns]"
      ]
     },
     "execution_count": 105,
     "metadata": {},
     "output_type": "execute_result"
    }
   ],
   "source": [
    "# filter Seoul\n",
    "\n",
    "dt.set_index(\"Region\", inplace = True)\n",
    "\n",
    "dt_seoul = dt.loc[\"Seoul\"]\n",
    "dt_seoul"
   ]
  },
  {
   "cell_type": "code",
   "execution_count": 106,
   "id": "d7623f68-f1e3-455f-80ca-e0d0a202873a",
   "metadata": {
    "tags": []
   },
   "outputs": [
    {
     "name": "stdout",
     "output_type": "stream",
     "text": [
      "          ID       Date    Birth  Birth_rate   Death  Death_rate  Divorce  \\\n",
      "Region                                                                      \n",
      "Seoul     15 2000-01-01  12866.0       14.79  3931.0         4.5   1835.0   \n",
      "Seoul     33 2000-02-01  11797.0       14.48  3218.0         4.0   1912.0   \n",
      "Seoul     51 2000-03-01  12453.0       14.29  3368.0         3.9   2333.0   \n",
      "Seoul     69 2000-04-01  10782.0       12.77  3204.0         3.8   1916.0   \n",
      "Seoul     87 2000-05-01  10817.0       12.39  3064.0         3.5   2108.0   \n",
      "...      ...        ...      ...         ...     ...         ...      ...   \n",
      "Seoul   4785 2022-02-01   3452.0        4.80  4511.0         6.3   1007.0   \n",
      "Seoul   4803 2022-03-01   4002.0        5.00  6529.0         8.2   1084.0   \n",
      "Seoul   4821 2022-04-01   3603.0        4.70  5351.0         6.9   1056.0   \n",
      "Seoul   4839 2022-05-01   3372.0        4.20  4172.0         5.2   1263.0   \n",
      "Seoul   4857 2022-06-01   3137.0        4.10  3631.0         4.7   1088.0   \n",
      "\n",
      "        Divorce_rate  Marriage  Marriage_rate  Natural_growth  \\\n",
      "Region                                                          \n",
      "Seoul            2.1    6781.0            7.8          8935.0   \n",
      "Seoul            2.3    5596.0            6.9          8579.0   \n",
      "Seoul            2.7    6781.0            7.8          9085.0   \n",
      "Seoul            2.3    6667.0            7.9          7578.0   \n",
      "Seoul            2.4    8428.0            9.7          7753.0   \n",
      "...              ...       ...            ...             ...   \n",
      "Seoul            1.4    2979.0            4.1         -1059.0   \n",
      "Seoul            1.4    2774.0            3.5         -2527.0   \n",
      "Seoul            1.4    2844.0            3.7         -1747.0   \n",
      "Seoul            1.6    3259.0            4.1          -800.0   \n",
      "Seoul            1.4    2630.0            3.4          -494.0   \n",
      "\n",
      "        Natural_growth_rate  \n",
      "Region                       \n",
      "Seoul                  10.3  \n",
      "Seoul                  10.5  \n",
      "Seoul                  10.4  \n",
      "Seoul                   9.0  \n",
      "Seoul                   8.9  \n",
      "...                     ...  \n",
      "Seoul                  -1.5  \n",
      "Seoul                  -3.2  \n",
      "Seoul                  -2.3  \n",
      "Seoul                  -1.0  \n",
      "Seoul                  -0.6  \n",
      "\n",
      "[270 rows x 12 columns]\n"
     ]
    }
   ],
   "source": [
    "# return Seoul\n",
    "\n",
    "dt_seoul.head()"
   ]
  },
  {
   "cell_type": "code",
   "execution_count": 107,
   "id": "c0adfbbb-cef0-47f2-86f7-8707cc66eaa0",
   "metadata": {
    "tags": []
   },
   "outputs": [
    {
     "data": {
      "text/html": [
       "<div>\n",
       "<style scoped>\n",
       "    .dataframe tbody tr th:only-of-type {\n",
       "        vertical-align: middle;\n",
       "    }\n",
       "\n",
       "    .dataframe tbody tr th {\n",
       "        vertical-align: top;\n",
       "    }\n",
       "\n",
       "    .dataframe thead th {\n",
       "        text-align: right;\n",
       "    }\n",
       "</style>\n",
       "<table border=\"1\" class=\"dataframe\">\n",
       "  <thead>\n",
       "    <tr style=\"text-align: right;\">\n",
       "      <th></th>\n",
       "      <th>ID</th>\n",
       "      <th>Date</th>\n",
       "      <th>Birth</th>\n",
       "      <th>Birth_rate</th>\n",
       "      <th>Death</th>\n",
       "      <th>Death_rate</th>\n",
       "      <th>Divorce</th>\n",
       "      <th>Divorce_rate</th>\n",
       "      <th>Marriage</th>\n",
       "      <th>Marriage_rate</th>\n",
       "      <th>Natural_growth</th>\n",
       "      <th>Natural_growth_rate</th>\n",
       "    </tr>\n",
       "    <tr>\n",
       "      <th>Region</th>\n",
       "      <th></th>\n",
       "      <th></th>\n",
       "      <th></th>\n",
       "      <th></th>\n",
       "      <th></th>\n",
       "      <th></th>\n",
       "      <th></th>\n",
       "      <th></th>\n",
       "      <th></th>\n",
       "      <th></th>\n",
       "      <th></th>\n",
       "      <th></th>\n",
       "    </tr>\n",
       "  </thead>\n",
       "  <tbody>\n",
       "    <tr>\n",
       "      <th>Seoul</th>\n",
       "      <td>15</td>\n",
       "      <td>2000-01-01</td>\n",
       "      <td>12866.0</td>\n",
       "      <td>14.79</td>\n",
       "      <td>3931.0</td>\n",
       "      <td>4.5</td>\n",
       "      <td>1835.0</td>\n",
       "      <td>2.1</td>\n",
       "      <td>6781.0</td>\n",
       "      <td>7.8</td>\n",
       "      <td>8935.0</td>\n",
       "      <td>10.3</td>\n",
       "    </tr>\n",
       "    <tr>\n",
       "      <th>Seoul</th>\n",
       "      <td>33</td>\n",
       "      <td>2000-02-01</td>\n",
       "      <td>11797.0</td>\n",
       "      <td>14.48</td>\n",
       "      <td>3218.0</td>\n",
       "      <td>4.0</td>\n",
       "      <td>1912.0</td>\n",
       "      <td>2.3</td>\n",
       "      <td>5596.0</td>\n",
       "      <td>6.9</td>\n",
       "      <td>8579.0</td>\n",
       "      <td>10.5</td>\n",
       "    </tr>\n",
       "    <tr>\n",
       "      <th>Seoul</th>\n",
       "      <td>51</td>\n",
       "      <td>2000-03-01</td>\n",
       "      <td>12453.0</td>\n",
       "      <td>14.29</td>\n",
       "      <td>3368.0</td>\n",
       "      <td>3.9</td>\n",
       "      <td>2333.0</td>\n",
       "      <td>2.7</td>\n",
       "      <td>6781.0</td>\n",
       "      <td>7.8</td>\n",
       "      <td>9085.0</td>\n",
       "      <td>10.4</td>\n",
       "    </tr>\n",
       "    <tr>\n",
       "      <th>Seoul</th>\n",
       "      <td>69</td>\n",
       "      <td>2000-04-01</td>\n",
       "      <td>10782.0</td>\n",
       "      <td>12.77</td>\n",
       "      <td>3204.0</td>\n",
       "      <td>3.8</td>\n",
       "      <td>1916.0</td>\n",
       "      <td>2.3</td>\n",
       "      <td>6667.0</td>\n",
       "      <td>7.9</td>\n",
       "      <td>7578.0</td>\n",
       "      <td>9.0</td>\n",
       "    </tr>\n",
       "    <tr>\n",
       "      <th>Seoul</th>\n",
       "      <td>87</td>\n",
       "      <td>2000-05-01</td>\n",
       "      <td>10817.0</td>\n",
       "      <td>12.39</td>\n",
       "      <td>3064.0</td>\n",
       "      <td>3.5</td>\n",
       "      <td>2108.0</td>\n",
       "      <td>2.4</td>\n",
       "      <td>8428.0</td>\n",
       "      <td>9.7</td>\n",
       "      <td>7753.0</td>\n",
       "      <td>8.9</td>\n",
       "    </tr>\n",
       "  </tbody>\n",
       "</table>\n",
       "</div>"
      ],
      "text/plain": [
       "        ID       Date    Birth  Birth_rate   Death  Death_rate  Divorce  \\\n",
       "Region                                                                    \n",
       "Seoul   15 2000-01-01  12866.0       14.79  3931.0         4.5   1835.0   \n",
       "Seoul   33 2000-02-01  11797.0       14.48  3218.0         4.0   1912.0   \n",
       "Seoul   51 2000-03-01  12453.0       14.29  3368.0         3.9   2333.0   \n",
       "Seoul   69 2000-04-01  10782.0       12.77  3204.0         3.8   1916.0   \n",
       "Seoul   87 2000-05-01  10817.0       12.39  3064.0         3.5   2108.0   \n",
       "\n",
       "        Divorce_rate  Marriage  Marriage_rate  Natural_growth  \\\n",
       "Region                                                          \n",
       "Seoul            2.1    6781.0            7.8          8935.0   \n",
       "Seoul            2.3    5596.0            6.9          8579.0   \n",
       "Seoul            2.7    6781.0            7.8          9085.0   \n",
       "Seoul            2.3    6667.0            7.9          7578.0   \n",
       "Seoul            2.4    8428.0            9.7          7753.0   \n",
       "\n",
       "        Natural_growth_rate  \n",
       "Region                       \n",
       "Seoul                  10.3  \n",
       "Seoul                  10.5  \n",
       "Seoul                  10.4  \n",
       "Seoul                   9.0  \n",
       "Seoul                   8.9  "
      ]
     },
     "execution_count": 107,
     "metadata": {},
     "output_type": "execute_result"
    }
   ],
   "source": [
    "dt_seoul.head()"
   ]
  },
  {
   "cell_type": "markdown",
   "id": "5c467662-86ea-4792-9f81-1124bf961bf4",
   "metadata": {},
   "source": [
    "# Include a histogram of each of the 5 variables – in your summary and analysis, \n",
    "# identify any outliers and explain the reasoning for them being outliers \n",
    "# and how you believe they should be handled (Chapter 2)."
   ]
  },
  {
   "cell_type": "code",
   "execution_count": 108,
   "id": "e6786025-293d-43f9-85fb-8c68d497fa84",
   "metadata": {
    "tags": []
   },
   "outputs": [],
   "source": [
    "# comments\n",
    "\n",
    "## Number of births per year.\n",
    "## Relevant figures should be from 2000-2020;\n",
    "## Any data before 2000 should be removed.\n",
    "## Mean: \t7,103.47\n",
    "## Mode: \t8,089.00\n",
    "## Spread: \t3,647,394.29\n",
    "## Tail: \tRegion\n",
    "## Seoul    3,452.0\n",
    "## Seoul    4,002.0\n",
    "## Seoul    3,603.0\n",
    "## Seoul    3,372.0\n",
    "## Seoul    3,137.0"
   ]
  },
  {
   "cell_type": "code",
   "execution_count": 109,
   "id": "d96b1c28-ed50-407d-a7df-fd307f58acbb",
   "metadata": {
    "tags": []
   },
   "outputs": [
    {
     "data": {
      "image/png": "[encoded data removed]",
      "text/plain": [
       "<Figure size 640x480 with 1 Axes>"
      ]
     },
     "metadata": {},
     "output_type": "display_data"
    }
   ],
   "source": [
    "# hist 01 - Birth\n",
    "\n",
    "x01 = dt_seoul.Date\n",
    "y01 = dt_seoul.Birth\n",
    "\n",
    "plt.hist([x01, y01], bins = 20, alpha = 0.5)\n",
    "font1 = {'family':'arial','color':'#666666','size':16}\n",
    "font2 = {'family':'arial','color':'#222222','size':10}\n",
    "plt.title('Birth', loc = 'center', fontdict = font1)\n",
    "plt.xlabel('Year', fontdict = font2)\n",
    "plt.ylabel('Total', fontdict = font2)\n",
    "plt.ylim(0, 80)\n",
    "plt.xlim()\n",
    "plt.show()"
   ]
  },
  {
   "cell_type": "code",
   "execution_count": 110,
   "id": "dc0fdb1a-f8b5-4f0e-9469-6299bcb7e83a",
   "metadata": {
    "tags": []
   },
   "outputs": [],
   "source": [
    "# Include the other descriptive characteristics about the variables: \n",
    "# Mean (Chapter 2)."
   ]
  },
  {
   "cell_type": "code",
   "execution_count": 111,
   "id": "d527a663-c6bc-472d-af44-0a0a48f82ee0",
   "metadata": {
    "tags": []
   },
   "outputs": [
    {
     "data": {
      "text/plain": [
       "7103.470370370371"
      ]
     },
     "execution_count": 111,
     "metadata": {},
     "output_type": "execute_result"
    }
   ],
   "source": [
    "# hist 01 - Birth mean\n",
    "\n",
    "statistics.mean(dt_seoul.Birth)"
   ]
  },
  {
   "cell_type": "code",
   "execution_count": 112,
   "id": "d94d0cf0-2513-4d39-86d3-2117e187c01b",
   "metadata": {
    "tags": []
   },
   "outputs": [],
   "source": [
    "# Include the other descriptive characteristics about the variables: \n",
    "# Mode (Chapter 2)."
   ]
  },
  {
   "cell_type": "code",
   "execution_count": 113,
   "id": "c1f2bc8b-00db-4fbf-96fc-0197dacfbd11",
   "metadata": {
    "tags": []
   },
   "outputs": [
    {
     "data": {
      "text/plain": [
       "8089.0"
      ]
     },
     "execution_count": 113,
     "metadata": {},
     "output_type": "execute_result"
    }
   ],
   "source": [
    "# hist 01 - Birth mode\n",
    "\n",
    "statistics.mode(dt_seoul.Birth)"
   ]
  },
  {
   "cell_type": "code",
   "execution_count": 114,
   "id": "c4b5dfbc-bfdd-4c4a-852e-5a3006222a9d",
   "metadata": {
    "tags": []
   },
   "outputs": [],
   "source": [
    "# Include the other descriptive characteristics about the variables: \n",
    "# Spread (Chapter 2)."
   ]
  },
  {
   "cell_type": "code",
   "execution_count": 115,
   "id": "1692e799-b4a0-4d29-9b83-f8ccc89ddbc1",
   "metadata": {
    "tags": []
   },
   "outputs": [
    {
     "data": {
      "text/plain": [
       "3647394.2872229116"
      ]
     },
     "execution_count": 115,
     "metadata": {},
     "output_type": "execute_result"
    }
   ],
   "source": [
    "# hist 01 - Birth spread\n",
    "\n",
    "dt_seoul.Birth.var()"
   ]
  },
  {
   "cell_type": "code",
   "execution_count": 116,
   "id": "76ef8a72-3e36-4d27-92d2-e31903d88974",
   "metadata": {
    "tags": []
   },
   "outputs": [],
   "source": [
    "# Include the other descriptive characteristics about the variables: \n",
    "# Tails (Chapter 2)."
   ]
  },
  {
   "cell_type": "code",
   "execution_count": 117,
   "id": "270ac9b0-5ce7-4b0c-8f65-3e8aae5f4dbb",
   "metadata": {
    "tags": []
   },
   "outputs": [
    {
     "data": {
      "text/plain": [
       "Region\n",
       "Seoul    3452.0\n",
       "Seoul    4002.0\n",
       "Seoul    3603.0\n",
       "Seoul    3372.0\n",
       "Seoul    3137.0\n",
       "Name: Birth, dtype: float64"
      ]
     },
     "execution_count": 117,
     "metadata": {},
     "output_type": "execute_result"
    }
   ],
   "source": [
    "# hist 01 - Birth tail\n",
    "\n",
    "dt_seoul.Birth.tail()"
   ]
  },
  {
   "cell_type": "markdown",
   "id": "9680889c-b4f1-4948-83bd-8ffecc8aa2a6",
   "metadata": {},
   "source": [
    "# Include a histogram of each of the 5 variables – in your summary and analysis, \n",
    "# identify any outliers and explain the reasoning for them being outliers \n",
    "# and how you believe they should be handled (Chapter 2)."
   ]
  },
  {
   "cell_type": "code",
   "execution_count": 118,
   "id": "f7ab8289-9d5b-42c9-8dbe-c4043f7bd638",
   "metadata": {
    "tags": []
   },
   "outputs": [],
   "source": [
    "# comments\n",
    "\n",
    "## Birth rate per year.\n",
    "## Relevant figures should be from 2000-2020;\n",
    "## Obvious outlier is the datapoint for 1970.\n",
    "## Mean: \t8.48\n",
    "## Mode: \t5.00\n",
    "## Spread: \t4.46\n",
    "## Tail: \tRegion\n",
    "## Seoul    4.8\n",
    "## Seoul    5.0\n",
    "## Seoul    4.7\n",
    "## Seoul    4.2\n",
    "## Seoul    4.1"
   ]
  },
  {
   "cell_type": "code",
   "execution_count": 119,
   "id": "018244c9-4e78-442f-ba98-e916d6df2562",
   "metadata": {},
   "outputs": [
    {
     "data": {
      "image/png": "[encoded data removed]",
      "text/plain": [
       "<Figure size 640x480 with 1 Axes>"
      ]
     },
     "metadata": {},
     "output_type": "display_data"
    }
   ],
   "source": [
    "# hist 02 - Birth Rate\n",
    "\n",
    "x02 = dt_seoul.Date\n",
    "y02 = dt_seoul.Birth_rate\n",
    "\n",
    "plt.hist([x02, y02], bins = 20, alpha = 0.5)\n",
    "font1 = {'family':'arial','color':'#666666','size':16}\n",
    "font2 = {'family':'arial','color':'#222222','size':10}\n",
    "plt.title('Birth Rate', loc = 'center', fontdict = font1)\n",
    "plt.xlabel('Year', fontdict = font2)\n",
    "plt.ylabel('Ratio to Average Population', fontdict = font2)\n",
    "plt.ylim(0, 300)\n",
    "plt.xlim()\n",
    "plt.show()"
   ]
  },
  {
   "cell_type": "code",
   "execution_count": 120,
   "id": "df03516a-1218-49e4-9278-54d22c6bb576",
   "metadata": {
    "tags": []
   },
   "outputs": [],
   "source": [
    "# Include the other descriptive characteristics about the variables: \n",
    "# Mean (Chapter 2)."
   ]
  },
  {
   "cell_type": "code",
   "execution_count": 121,
   "id": "55509c32-2ccc-4cb5-9d04-c18524964701",
   "metadata": {
    "tags": []
   },
   "outputs": [
    {
     "data": {
      "text/plain": [
       "8.475555555555555"
      ]
     },
     "execution_count": 121,
     "metadata": {},
     "output_type": "execute_result"
    }
   ],
   "source": [
    "# hist 02 - Birth Rate mean\n",
    "\n",
    "statistics.mean(dt_seoul.Birth_rate)"
   ]
  },
  {
   "cell_type": "code",
   "execution_count": 122,
   "id": "e212a0c6-bed6-4082-89e2-8b4706432a96",
   "metadata": {
    "tags": []
   },
   "outputs": [],
   "source": [
    "# Include the other descriptive characteristics about the variables: \n",
    "# Mode (Chapter 2)."
   ]
  },
  {
   "cell_type": "code",
   "execution_count": 123,
   "id": "de590e18-3c08-4af4-a280-7cc426aa4c32",
   "metadata": {
    "tags": []
   },
   "outputs": [
    {
     "data": {
      "text/plain": [
       "5.0"
      ]
     },
     "execution_count": 123,
     "metadata": {},
     "output_type": "execute_result"
    }
   ],
   "source": [
    "# hist 02 - Birth Rate mode\n",
    "\n",
    "statistics.mode(dt_seoul.Birth_rate)"
   ]
  },
  {
   "cell_type": "code",
   "execution_count": 124,
   "id": "f05f7853-9020-4b75-8d30-9cd48b30bb02",
   "metadata": {
    "tags": []
   },
   "outputs": [],
   "source": [
    "# Include the other descriptive characteristics about the variables: \n",
    "# Spread (Chapter 2)."
   ]
  },
  {
   "cell_type": "code",
   "execution_count": 125,
   "id": "21971883-1c2b-4534-85db-227ed1f3e351",
   "metadata": {
    "tags": []
   },
   "outputs": [
    {
     "data": {
      "text/plain": [
       "4.459966047087978"
      ]
     },
     "execution_count": 125,
     "metadata": {},
     "output_type": "execute_result"
    }
   ],
   "source": [
    "# hist 02 - Birth Rate spread\n",
    "\n",
    "dt_seoul.Birth_rate.var()"
   ]
  },
  {
   "cell_type": "code",
   "execution_count": 126,
   "id": "2e5829f7-6bb1-42d2-a62d-29e98ceb4358",
   "metadata": {
    "tags": []
   },
   "outputs": [],
   "source": [
    "# Include the other descriptive characteristics about the variables: \n",
    "# Tails (Chapter 2)."
   ]
  },
  {
   "cell_type": "code",
   "execution_count": 127,
   "id": "fe4eb65c-680d-4331-adcb-07a6979a1a9b",
   "metadata": {
    "tags": []
   },
   "outputs": [
    {
     "data": {
      "text/plain": [
       "Region\n",
       "Seoul    4.8\n",
       "Seoul    5.0\n",
       "Seoul    4.7\n",
       "Seoul    4.2\n",
       "Seoul    4.1\n",
       "Name: Birth_rate, dtype: float64"
      ]
     },
     "execution_count": 127,
     "metadata": {},
     "output_type": "execute_result"
    }
   ],
   "source": [
    "# hist 02 - Birth Rate tail\n",
    "\n",
    "dt_seoul.Birth_rate.tail()"
   ]
  },
  {
   "cell_type": "markdown",
   "id": "7df71fea-81c5-444a-8b4f-89df647af156",
   "metadata": {},
   "source": [
    "# Include a histogram of each of the 5 variables – in your summary and analysis, \n",
    "# identify any outliers and explain the reasoning for them being outliers \n",
    "# and how you believe they should be handled (Chapter 2)."
   ]
  },
  {
   "cell_type": "code",
   "execution_count": 128,
   "id": "552f0ea1-efc8-43fe-b9a1-46e387d7b5e9",
   "metadata": {
    "tags": []
   },
   "outputs": [],
   "source": [
    "# comments\n",
    "\n",
    "## Number of deaths per year.\n",
    "## Relevant figures should be from 2000-2020;\n",
    "## Obvious outlier are the datapoint for the 1980s.\n",
    "## Mean: \t3,460.61\n",
    "## Mode: \t3,300.00\n",
    "## Spread: \t160,727.65\n",
    "## Tail: \tRegion\n",
    "## Seoul    4,511.0\n",
    "## Seoul    6,529.0\n",
    "## Seoul    5,351.0\n",
    "## Seoul    4,172.0\n",
    "## Seoul    3,631.0"
   ]
  },
  {
   "cell_type": "code",
   "execution_count": 129,
   "id": "6def38a8-e73c-426f-bfe3-5eae909f9f80",
   "metadata": {
    "tags": []
   },
   "outputs": [
    {
     "data": {
      "image/png": "[encoded data removed]",
      "text/plain": [
       "<Figure size 640x480 with 1 Axes>"
      ]
     },
     "metadata": {},
     "output_type": "display_data"
    }
   ],
   "source": [
    "# hist 03 - Death\n",
    "\n",
    "x03 = dt_seoul.Date\n",
    "y03 = dt_seoul.Death\n",
    "\n",
    "plt.hist([x03, y03], bins = 20, alpha = 0.5)\n",
    "font1 = {'family':'arial','color':'#666666','size':16}\n",
    "font2 = {'family':'arial','color':'#222222','size':10}\n",
    "plt.title('Death', loc = 'center', fontdict = font1)\n",
    "plt.xlabel('Year', fontdict = font2)\n",
    "plt.ylabel('Total', fontdict = font2)\n",
    "plt.ylim(0, 250)\n",
    "plt.xlim()\n",
    "plt.show()"
   ]
  },
  {
   "cell_type": "code",
   "execution_count": 130,
   "id": "4c70ad0d-d3b6-4de1-bc6a-e57284e5824b",
   "metadata": {
    "tags": []
   },
   "outputs": [],
   "source": [
    "# Include the other descriptive characteristics about the variables: \n",
    "# Mean (Chapter 2)."
   ]
  },
  {
   "cell_type": "code",
   "execution_count": 131,
   "id": "09cf9c85-dff8-401c-a1da-a215ef09f1b6",
   "metadata": {
    "tags": []
   },
   "outputs": [
    {
     "data": {
      "text/plain": [
       "3460.607407407407"
      ]
     },
     "execution_count": 131,
     "metadata": {},
     "output_type": "execute_result"
    }
   ],
   "source": [
    "# hist 03 - Death mean\n",
    "\n",
    "statistics.mean(dt_seoul.Death)"
   ]
  },
  {
   "cell_type": "code",
   "execution_count": 132,
   "id": "6095ba9d-9c41-46a2-a315-da6edf94956e",
   "metadata": {
    "tags": []
   },
   "outputs": [],
   "source": [
    "# Include the other descriptive characteristics about the variables: \n",
    "# Mode (Chapter 2)."
   ]
  },
  {
   "cell_type": "code",
   "execution_count": 133,
   "id": "1ae24bb9-5521-47ee-826d-1bcb906bc09c",
   "metadata": {
    "tags": []
   },
   "outputs": [
    {
     "data": {
      "text/plain": [
       "3300.0"
      ]
     },
     "execution_count": 133,
     "metadata": {},
     "output_type": "execute_result"
    }
   ],
   "source": [
    "# hist 03 - Death mode\n",
    "\n",
    "statistics.mode(dt_seoul.Death)"
   ]
  },
  {
   "cell_type": "code",
   "execution_count": 134,
   "id": "64141500-03cb-482d-89fe-6fa83d3c0461",
   "metadata": {
    "tags": []
   },
   "outputs": [],
   "source": [
    "# Include the other descriptive characteristics about the variables: \n",
    "# Spread (Chapter 2)."
   ]
  },
  {
   "cell_type": "code",
   "execution_count": 135,
   "id": "af4109ad-b408-4d42-9969-59c90ae9c97b",
   "metadata": {
    "tags": []
   },
   "outputs": [
    {
     "data": {
      "text/plain": [
       "160727.65198953595"
      ]
     },
     "execution_count": 135,
     "metadata": {},
     "output_type": "execute_result"
    }
   ],
   "source": [
    "# hist 03 - Death spread\n",
    "\n",
    "dt_seoul.Death.var()"
   ]
  },
  {
   "cell_type": "code",
   "execution_count": 136,
   "id": "5d2defea-6cba-42de-af74-e18ddf3d94f7",
   "metadata": {
    "tags": []
   },
   "outputs": [],
   "source": [
    "# Include the other descriptive characteristics about the variables: \n",
    "# Tails (Chapter 2)."
   ]
  },
  {
   "cell_type": "code",
   "execution_count": 137,
   "id": "6a478465-dcd5-4eb6-b927-ddb8b6bf24d4",
   "metadata": {
    "tags": []
   },
   "outputs": [
    {
     "data": {
      "text/plain": [
       "Region\n",
       "Seoul    4511.0\n",
       "Seoul    6529.0\n",
       "Seoul    5351.0\n",
       "Seoul    4172.0\n",
       "Seoul    3631.0\n",
       "Name: Death, dtype: float64"
      ]
     },
     "execution_count": 137,
     "metadata": {},
     "output_type": "execute_result"
    }
   ],
   "source": [
    "# hist 03 - Death tail\n",
    "\n",
    "dt_seoul.Death.tail()"
   ]
  },
  {
   "cell_type": "markdown",
   "id": "b9ba652f-b559-4c7b-8381-789b3323da6a",
   "metadata": {},
   "source": [
    "# Include a histogram of each of the 5 variables – in your summary and analysis, \n",
    "# identify any outliers and explain the reasoning for them being outliers \n",
    "# and how you believe they should be handled (Chapter 2)."
   ]
  },
  {
   "cell_type": "code",
   "execution_count": 138,
   "id": "8c8fddc4-5b3e-465a-b625-3666596bc7bb",
   "metadata": {
    "tags": []
   },
   "outputs": [],
   "source": [
    "# comments\n",
    "\n",
    "## Death rate per year.\n",
    "## Relevant figures should be from 2000-2020;\n",
    "## Obvious outlier is the datapoint for 1970.\n",
    "## Mean: \t4.17\n",
    "## Mode: \t3.90\n",
    "## Spread: \t0.34\n",
    "## Tail: \tRegion\n",
    "## Seoul    6.3\n",
    "## Seoul    8.2\n",
    "## Seoul    6.9\n",
    "## Seoul    5.2\n",
    "## Seoul    4.7"
   ]
  },
  {
   "cell_type": "code",
   "execution_count": 139,
   "id": "4cbc8909-5ed7-486c-bc15-2e694c82d5ab",
   "metadata": {
    "tags": []
   },
   "outputs": [
    {
     "data": {
      "image/png": "[encoded data removed]",
      "text/plain": [
       "<Figure size 640x480 with 1 Axes>"
      ]
     },
     "metadata": {},
     "output_type": "display_data"
    }
   ],
   "source": [
    "# hist 04 - Death Rate\n",
    "\n",
    "x04 = dt_seoul.Date\n",
    "y04 = dt_seoul.Death_rate\n",
    "\n",
    "plt.hist([x04, y04], bins = 20, alpha = 0.5)\n",
    "font1 = {'family':'arial','color':'#666666','size':16}\n",
    "font2 = {'family':'arial','color':'#222222','size':10}\n",
    "plt.title('Death Rate', loc = 'center', fontdict = font1)\n",
    "plt.xlabel('Year', fontdict = font2)\n",
    "plt.ylabel('Ratio to Average Population', fontdict = font2)\n",
    "plt.ylim(0, 300)\n",
    "plt.xlim()\n",
    "plt.show()"
   ]
  },
  {
   "cell_type": "code",
   "execution_count": 140,
   "id": "ed822359-4f94-4b0a-a510-d9326908a646",
   "metadata": {
    "tags": []
   },
   "outputs": [],
   "source": [
    "# Include the other descriptive characteristics about the variables: \n",
    "# Mean (Chapter 2)."
   ]
  },
  {
   "cell_type": "code",
   "execution_count": 141,
   "id": "9bf52e09-f759-4b9b-95f9-68c62676342c",
   "metadata": {
    "tags": []
   },
   "outputs": [
    {
     "data": {
      "text/plain": [
       "4.166296296296296"
      ]
     },
     "execution_count": 141,
     "metadata": {},
     "output_type": "execute_result"
    }
   ],
   "source": [
    "# hist 04 - Death Rate mean\n",
    "\n",
    "statistics.mean(dt_seoul.Death_rate)"
   ]
  },
  {
   "cell_type": "code",
   "execution_count": 142,
   "id": "5e962749-ce1c-46da-b578-da9faf97c222",
   "metadata": {
    "tags": []
   },
   "outputs": [],
   "source": [
    "# Include the other descriptive characteristics about the variables: \n",
    "# Mode (Chapter 2)."
   ]
  },
  {
   "cell_type": "code",
   "execution_count": 143,
   "id": "dd293918-fc0a-498b-a594-de6198809edb",
   "metadata": {
    "tags": []
   },
   "outputs": [
    {
     "data": {
      "text/plain": [
       "3.9"
      ]
     },
     "execution_count": 143,
     "metadata": {},
     "output_type": "execute_result"
    }
   ],
   "source": [
    "# hist 04 - Death Rate mode\n",
    "\n",
    "statistics.mode(dt_seoul.Death_rate)"
   ]
  },
  {
   "cell_type": "code",
   "execution_count": 144,
   "id": "165ed9e2-f636-42eb-8d08-c63eb2095ca7",
   "metadata": {
    "tags": []
   },
   "outputs": [],
   "source": [
    "# Include the other descriptive characteristics about the variables: \n",
    "# Spread (Chapter 2)."
   ]
  },
  {
   "cell_type": "code",
   "execution_count": 145,
   "id": "98a26f85-c41c-4991-80b0-87ca2a222925",
   "metadata": {
    "tags": []
   },
   "outputs": [
    {
     "data": {
      "text/plain": [
       "0.33852526504199365"
      ]
     },
     "execution_count": 145,
     "metadata": {},
     "output_type": "execute_result"
    }
   ],
   "source": [
    "# hist 04 - Death Rate spread\n",
    "\n",
    "dt_seoul.Death_rate.var()"
   ]
  },
  {
   "cell_type": "code",
   "execution_count": 146,
   "id": "1f54cb39-778f-4cb8-a51c-d8a1f5ee0d67",
   "metadata": {
    "tags": []
   },
   "outputs": [],
   "source": [
    "# Include the other descriptive characteristics about the variables: \n",
    "# Tails (Chapter 2)."
   ]
  },
  {
   "cell_type": "code",
   "execution_count": 147,
   "id": "8025e53b-2b23-47d3-a389-8ac1e6b5035f",
   "metadata": {
    "tags": []
   },
   "outputs": [
    {
     "data": {
      "text/plain": [
       "Region\n",
       "Seoul    6.3\n",
       "Seoul    8.2\n",
       "Seoul    6.9\n",
       "Seoul    5.2\n",
       "Seoul    4.7\n",
       "Name: Death_rate, dtype: float64"
      ]
     },
     "execution_count": 147,
     "metadata": {},
     "output_type": "execute_result"
    }
   ],
   "source": [
    "# hist 04 - Death Rate tail\n",
    "\n",
    "dt_seoul.Death_rate.tail()"
   ]
  },
  {
   "cell_type": "markdown",
   "id": "d249a532-899c-4972-bfe3-562458ccff4f",
   "metadata": {},
   "source": [
    "# Include a histogram of each of the 5 variables – in your summary and analysis, \n",
    "# identify any outliers and explain the reasoning for them being outliers \n",
    "# and how you believe they should be handled (Chapter 2)."
   ]
  },
  {
   "cell_type": "code",
   "execution_count": 148,
   "id": "e6d31f6c-0820-4d40-ba6b-4fd0e2cd9de7",
   "metadata": {
    "tags": []
   },
   "outputs": [],
   "source": [
    "# comments\n",
    "\n",
    "## Number of divorces per year.\n",
    "## Relevant figures should be from 2000-2020;\n",
    "## Obvious outlier are the datapoint for the 1970s and 1980s.\n",
    "## Mean: \t1,821.14\n",
    "## Mode: \t2,272.00\n",
    "## Spread: \t183,302.89\n",
    "## Tail: \tRegion\n",
    "## Seoul    1,007.0\n",
    "## Seoul    1,084.0\n",
    "## Seoul    1,056.0\n",
    "## Seoul    1,263.0\n",
    "## Seoul    1,088.0"
   ]
  },
  {
   "cell_type": "code",
   "execution_count": 149,
   "id": "69d25a61-7e05-4e93-9cce-ab145c6582aa",
   "metadata": {
    "tags": []
   },
   "outputs": [
    {
     "data": {
      "image/png": "[encoded data removed]",
      "text/plain": [
       "<Figure size 640x480 with 1 Axes>"
      ]
     },
     "metadata": {},
     "output_type": "display_data"
    }
   ],
   "source": [
    "# hist 05 - Divorce\n",
    "\n",
    "x05 = dt_seoul.Date\n",
    "y05 = dt_seoul.Divorce\n",
    "\n",
    "plt.hist([x05, y05], bins = 20, alpha = 0.5)\n",
    "font1 = {'family':'arial','color':'#666666','size':16}\n",
    "font2 = {'family':'arial','color':'#222222','size':10}\n",
    "plt.title('Divorce', loc = 'center', fontdict = font1)\n",
    "plt.xlabel('Year', fontdict = font2)\n",
    "plt.ylabel('Total', fontdict = font2)\n",
    "plt.ylim(0, 180)\n",
    "plt.xlim()\n",
    "plt.show()"
   ]
  },
  {
   "cell_type": "code",
   "execution_count": 150,
   "id": "55d6c2b4-dcf9-4b51-a6df-8387dc3e11d1",
   "metadata": {
    "tags": []
   },
   "outputs": [],
   "source": [
    "# Include the other descriptive characteristics about the variables: \n",
    "# Mean (Chapter 2)."
   ]
  },
  {
   "cell_type": "code",
   "execution_count": 151,
   "id": "6e6629fb-9732-4e34-8a0a-bab1789bdd8a",
   "metadata": {
    "tags": []
   },
   "outputs": [
    {
     "data": {
      "text/plain": [
       "1821.1444444444444"
      ]
     },
     "execution_count": 151,
     "metadata": {},
     "output_type": "execute_result"
    }
   ],
   "source": [
    "# hist 05 - Divorce mean\n",
    "\n",
    "statistics.mean(dt_seoul.Divorce)"
   ]
  },
  {
   "cell_type": "code",
   "execution_count": 152,
   "id": "59d86eca-7484-4490-ab38-1bfd134eaf99",
   "metadata": {
    "tags": []
   },
   "outputs": [],
   "source": [
    "# Include the other descriptive characteristics about the variables: \n",
    "# Mode (Chapter 2)."
   ]
  },
  {
   "cell_type": "code",
   "execution_count": 153,
   "id": "10157d82-ad21-4aa2-977c-7e5b0b494c9a",
   "metadata": {
    "tags": []
   },
   "outputs": [
    {
     "data": {
      "text/plain": [
       "2272.0"
      ]
     },
     "execution_count": 153,
     "metadata": {},
     "output_type": "execute_result"
    }
   ],
   "source": [
    "# hist 05 - Divorce mode\n",
    "\n",
    "statistics.mode(dt_seoul.Divorce)"
   ]
  },
  {
   "cell_type": "code",
   "execution_count": 154,
   "id": "28d1285b-ef68-4e26-9f09-57d5644c49ff",
   "metadata": {
    "tags": []
   },
   "outputs": [],
   "source": [
    "# Include the other descriptive characteristics about the variables: \n",
    "# Spread (Chapter 2)."
   ]
  },
  {
   "cell_type": "code",
   "execution_count": 155,
   "id": "0071044c-6c36-4328-af16-b26a367c68a8",
   "metadata": {
    "tags": []
   },
   "outputs": [
    {
     "data": {
      "text/plain": [
       "183302.8898389095"
      ]
     },
     "execution_count": 155,
     "metadata": {},
     "output_type": "execute_result"
    }
   ],
   "source": [
    "# hist 05 - Divorce spread\n",
    "\n",
    "dt_seoul.Divorce.var()"
   ]
  },
  {
   "cell_type": "code",
   "execution_count": 156,
   "id": "6b2f38ee-497b-47fd-9830-40e31dcdcfeb",
   "metadata": {
    "tags": []
   },
   "outputs": [],
   "source": [
    "# Include the other descriptive characteristics about the variables: \n",
    "# Tails (Chapter 2)."
   ]
  },
  {
   "cell_type": "code",
   "execution_count": 157,
   "id": "0da2df4b-1ee5-4f98-b62d-dfebff506bbd",
   "metadata": {
    "tags": []
   },
   "outputs": [
    {
     "data": {
      "text/plain": [
       "Region\n",
       "Seoul    1007.0\n",
       "Seoul    1084.0\n",
       "Seoul    1056.0\n",
       "Seoul    1263.0\n",
       "Seoul    1088.0\n",
       "Name: Divorce, dtype: float64"
      ]
     },
     "execution_count": 157,
     "metadata": {},
     "output_type": "execute_result"
    }
   ],
   "source": [
    "# hist 05 - Divorce tail\n",
    "\n",
    "dt_seoul.Divorce.tail()"
   ]
  },
  {
   "cell_type": "markdown",
   "id": "e5129557-9099-46a0-bcef-d95ed5b567e2",
   "metadata": {},
   "source": [
    "# Include a histogram of each of the 5 variables – in your summary and analysis, \n",
    "# identify any outliers and explain the reasoning for them being outliers \n",
    "# and how you believe they should be handled (Chapter 2)."
   ]
  },
  {
   "cell_type": "code",
   "execution_count": 158,
   "id": "d2308e25-988f-4235-858a-785cf6debd94",
   "metadata": {
    "tags": []
   },
   "outputs": [],
   "source": [
    "# comments\n",
    "\n",
    "## Divorce rate per year.\n",
    "## Relevant figures should be from 2000-2020;\n",
    "## Obvious outlier is the datapoint for 1970.\n",
    "## Mean: \t2.18\n",
    "## Mode: \t1.90\n",
    "## Spread: \t0.22\n",
    "## Tail: \tRegion\n",
    "## Seoul    1.4\n",
    "## Seoul    1.4\n",
    "## Seoul    1.4\n",
    "## Seoul    1.6\n",
    "## Seoul    1.4"
   ]
  },
  {
   "cell_type": "code",
   "execution_count": 159,
   "id": "6493834f-5694-481f-af04-c4ab748b2c38",
   "metadata": {
    "tags": []
   },
   "outputs": [
    {
     "data": {
      "image/png": "[encoded data removed]",
      "text/plain": [
       "<Figure size 640x480 with 1 Axes>"
      ]
     },
     "metadata": {},
     "output_type": "display_data"
    }
   ],
   "source": [
    "# hist 06 - Divorce Rate\n",
    "\n",
    "x06 = dt_seoul.Date\n",
    "y06 = dt_seoul.Divorce_rate\n",
    "\n",
    "plt.hist([x06, y06], bins = 20, alpha = 0.5)\n",
    "font1 = {'family':'arial','color':'#666666','size':16}\n",
    "font2 = {'family':'arial','color':'#222222','size':10}\n",
    "plt.title('Divorce Rate', loc = 'center', fontdict = font1)\n",
    "plt.xlabel('Year', fontdict = font2)\n",
    "plt.ylabel('Ratio to Average Population', fontdict = font2)\n",
    "plt.ylim(0, 300)\n",
    "plt.xlim()\n",
    "plt.show()"
   ]
  },
  {
   "cell_type": "code",
   "execution_count": 160,
   "id": "4279ce50-f94f-4c2d-86bd-11e7e1fc02e0",
   "metadata": {
    "tags": []
   },
   "outputs": [],
   "source": [
    "# Include the other descriptive characteristics about the variables: \n",
    "# Mean (Chapter 2)."
   ]
  },
  {
   "cell_type": "code",
   "execution_count": 161,
   "id": "228a5cdf-1599-4d6e-a639-cca46cb34b39",
   "metadata": {
    "tags": []
   },
   "outputs": [
    {
     "data": {
      "text/plain": [
       "2.178148148148148"
      ]
     },
     "execution_count": 161,
     "metadata": {},
     "output_type": "execute_result"
    }
   ],
   "source": [
    "# hist 06 - Divorce Rate mean\n",
    "\n",
    "statistics.mean(dt_seoul.Divorce_rate)"
   ]
  },
  {
   "cell_type": "code",
   "execution_count": 162,
   "id": "4a7432af-a828-414f-a967-79669d162e02",
   "metadata": {
    "tags": []
   },
   "outputs": [],
   "source": [
    "# Include the other descriptive characteristics about the variables: \n",
    "# Mode (Chapter 2)."
   ]
  },
  {
   "cell_type": "code",
   "execution_count": 163,
   "id": "4db43630-a12a-4df2-94c7-cde78168ce01",
   "metadata": {
    "tags": []
   },
   "outputs": [
    {
     "data": {
      "text/plain": [
       "1.9"
      ]
     },
     "execution_count": 163,
     "metadata": {},
     "output_type": "execute_result"
    }
   ],
   "source": [
    "# hist 06 - Divorce Rate mode\n",
    "\n",
    "statistics.mode(dt_seoul.Divorce_rate)"
   ]
  },
  {
   "cell_type": "code",
   "execution_count": 164,
   "id": "446a97ef-c260-44ee-bc82-0f58e31142cb",
   "metadata": {
    "tags": []
   },
   "outputs": [],
   "source": [
    "# Include the other descriptive characteristics about the variables: \n",
    "# Spread (Chapter 2)."
   ]
  },
  {
   "cell_type": "code",
   "execution_count": 165,
   "id": "7aac435f-fcf2-4a08-9d62-f92d912b3970",
   "metadata": {
    "tags": []
   },
   "outputs": [
    {
     "data": {
      "text/plain": [
       "0.21911179953187446"
      ]
     },
     "execution_count": 165,
     "metadata": {},
     "output_type": "execute_result"
    }
   ],
   "source": [
    "# hist 06 - Divorce Rate spread\n",
    "\n",
    "dt_seoul.Divorce_rate.var()"
   ]
  },
  {
   "cell_type": "code",
   "execution_count": 166,
   "id": "e698d80e-e63d-40cb-afcd-48b4c1dee1e0",
   "metadata": {
    "tags": []
   },
   "outputs": [],
   "source": [
    "# Include the other descriptive characteristics about the variables: \n",
    "# Tails (Chapter 2)."
   ]
  },
  {
   "cell_type": "code",
   "execution_count": 167,
   "id": "46e50360-d720-488d-952c-c43c95aa4759",
   "metadata": {
    "tags": []
   },
   "outputs": [
    {
     "data": {
      "text/plain": [
       "Region\n",
       "Seoul    1.4\n",
       "Seoul    1.4\n",
       "Seoul    1.4\n",
       "Seoul    1.6\n",
       "Seoul    1.4\n",
       "Name: Divorce_rate, dtype: float64"
      ]
     },
     "execution_count": 167,
     "metadata": {},
     "output_type": "execute_result"
    }
   ],
   "source": [
    "# hist 06 - Divorce Rate tail\n",
    "\n",
    "dt_seoul.Divorce_rate.tail()"
   ]
  },
  {
   "cell_type": "markdown",
   "id": "46feb407-fccf-44f8-b58b-c1b33d2e5218",
   "metadata": {},
   "source": [
    "# Include a histogram of each of the 5 variables – in your summary and analysis, \n",
    "# identify any outliers and explain the reasoning for them being outliers \n",
    "# and how you believe they should be handled (Chapter 2)."
   ]
  },
  {
   "cell_type": "code",
   "execution_count": 168,
   "id": "8fca14b4-e068-4582-a5f5-e586e7b2251c",
   "metadata": {
    "tags": []
   },
   "outputs": [],
   "source": [
    "# comments\n",
    "\n",
    "## Number of marriages per year.\n",
    "## Relevant figures should be from 2000-2020;\n",
    "## Datapoints before 2000 seem to be erratic.\n",
    "## Mean: \t5,398.06\n",
    "## Mode: \t6,781.00\n",
    "## Spread: \t2,060,503.98\n",
    "## Tail: \tRegion\n",
    "## Seoul    2,979.0\n",
    "## Seoul    2,774.0\n",
    "## Seoul    2,844.0\n",
    "## Seoul    3,259.0\n",
    "## Seoul    2,630.0"
   ]
  },
  {
   "cell_type": "code",
   "execution_count": 169,
   "id": "d477b1e6-f01b-433a-807f-b4a0311401d4",
   "metadata": {
    "tags": []
   },
   "outputs": [
    {
     "data": {
      "image/png": "[encoded data removed]",
      "text/plain": [
       "<Figure size 640x480 with 1 Axes>"
      ]
     },
     "metadata": {},
     "output_type": "display_data"
    }
   ],
   "source": [
    "# hist 07 - Marriage\n",
    "\n",
    "x07 = dt_seoul.Date\n",
    "y07 = dt_seoul.Marriage\n",
    "\n",
    "plt.hist([x07, y07], bins = 20, alpha = 0.5)\n",
    "font1 = {'family':'arial','color':'#666666','size':16}\n",
    "font2 = {'family':'arial','color':'#222222','size':10}\n",
    "plt.title('Marriage', loc = 'center', fontdict = font1)\n",
    "plt.xlabel('Year', fontdict = font2)\n",
    "plt.ylabel('Total', fontdict = font2)\n",
    "plt.ylim(0, 100)\n",
    "plt.xlim()\n",
    "plt.show()"
   ]
  },
  {
   "cell_type": "code",
   "execution_count": 170,
   "id": "9aae2415-5486-42ad-8216-087c600feb71",
   "metadata": {
    "tags": []
   },
   "outputs": [],
   "source": [
    "# Include the other descriptive characteristics about the variables: \n",
    "# Mean (Chapter 2)."
   ]
  },
  {
   "cell_type": "code",
   "execution_count": 171,
   "id": "e736d2fe-d98a-4bed-a787-54e6c2cd3085",
   "metadata": {
    "tags": []
   },
   "outputs": [
    {
     "data": {
      "text/plain": [
       "5398.055555555556"
      ]
     },
     "execution_count": 171,
     "metadata": {},
     "output_type": "execute_result"
    }
   ],
   "source": [
    "# hist 07 - Marriage mean\n",
    "\n",
    "statistics.mean(dt_seoul.Marriage)"
   ]
  },
  {
   "cell_type": "code",
   "execution_count": 172,
   "id": "4dc3d0fb-5ad3-423c-a3ca-406de37164ff",
   "metadata": {
    "tags": []
   },
   "outputs": [],
   "source": [
    "# Include the other descriptive characteristics about the variables: \n",
    "# Mode (Chapter 2)."
   ]
  },
  {
   "cell_type": "code",
   "execution_count": 173,
   "id": "fc6bc628-9868-491f-94db-a77de2306231",
   "metadata": {
    "tags": []
   },
   "outputs": [
    {
     "data": {
      "text/plain": [
       "6781.0"
      ]
     },
     "execution_count": 173,
     "metadata": {},
     "output_type": "execute_result"
    }
   ],
   "source": [
    "# hist 07 - Marriage mode\n",
    "\n",
    "statistics.mode(dt_seoul.Marriage)"
   ]
  },
  {
   "cell_type": "code",
   "execution_count": 174,
   "id": "9bc0cf2c-02e9-4a0f-83a9-5059d3453863",
   "metadata": {
    "tags": []
   },
   "outputs": [],
   "source": [
    "# Include the other descriptive characteristics about the variables: \n",
    "# Spread (Chapter 2)."
   ]
  },
  {
   "cell_type": "code",
   "execution_count": 175,
   "id": "d39e9779-cacf-4c83-9b10-9aee65ae9e8a",
   "metadata": {
    "tags": []
   },
   "outputs": [
    {
     "data": {
      "text/plain": [
       "2060503.9783147476"
      ]
     },
     "execution_count": 175,
     "metadata": {},
     "output_type": "execute_result"
    }
   ],
   "source": [
    "# hist 07 - Marriage spread\n",
    "\n",
    "dt_seoul.Marriage.var()"
   ]
  },
  {
   "cell_type": "code",
   "execution_count": 176,
   "id": "f74dc66b-5deb-4078-bbd4-17eb1ba2c484",
   "metadata": {
    "tags": []
   },
   "outputs": [],
   "source": [
    "# Include the other descriptive characteristics about the variables: \n",
    "# Tails (Chapter 2)."
   ]
  },
  {
   "cell_type": "code",
   "execution_count": 177,
   "id": "524c89f5-d121-4020-b7df-69ba849349e8",
   "metadata": {
    "tags": []
   },
   "outputs": [
    {
     "data": {
      "text/plain": [
       "Region\n",
       "Seoul    2979.0\n",
       "Seoul    2774.0\n",
       "Seoul    2844.0\n",
       "Seoul    3259.0\n",
       "Seoul    2630.0\n",
       "Name: Marriage, dtype: float64"
      ]
     },
     "execution_count": 177,
     "metadata": {},
     "output_type": "execute_result"
    }
   ],
   "source": [
    "# hist 07 - Marriage tail\n",
    "\n",
    "dt_seoul.Marriage.tail()"
   ]
  },
  {
   "cell_type": "markdown",
   "id": "9dcf763a-4a4b-4d1d-aa23-3831a64925c5",
   "metadata": {},
   "source": [
    "# Include a histogram of each of the 5 variables – in your summary and analysis, \n",
    "# identify any outliers and explain the reasoning for them being outliers \n",
    "# and how you believe they should be handled (Chapter 2)."
   ]
  },
  {
   "cell_type": "code",
   "execution_count": 178,
   "id": "34e85a8c-822f-46a8-ac20-74b7537bab24",
   "metadata": {
    "tags": []
   },
   "outputs": [],
   "source": [
    "# comments\n",
    "\n",
    "## Marriage rate per year.\n",
    "## Relevant figures should be from 2000-2020;\n",
    "## Obvious outlier is the datapoint for 1970.\n",
    "## Mean: \t6.45\n",
    "## Mode: \t6.70\n",
    "## Spread: \t2.48\n",
    "## Tail: \tRegion\n",
    "## Seoul    4.1\n",
    "## Seoul    3.5\n",
    "## Seoul    3.7\n",
    "## Seoul    4.1\n",
    "## Seoul    3.4"
   ]
  },
  {
   "cell_type": "code",
   "execution_count": 179,
   "id": "47ebd380-ff9c-4961-8c29-b45d4d1f8a05",
   "metadata": {
    "tags": []
   },
   "outputs": [
    {
     "data": {
      "image/png": "[encoded data removed]",
      "text/plain": [
       "<Figure size 640x480 with 1 Axes>"
      ]
     },
     "metadata": {},
     "output_type": "display_data"
    }
   ],
   "source": [
    "# hist 08 - Marriage Rate\n",
    "\n",
    "x08 = dt_seoul.Date\n",
    "y08 = dt_seoul.Marriage_rate\n",
    "\n",
    "plt.hist([x08, y08], bins = 20, alpha = 0.5)\n",
    "font1 = {'family':'arial','color':'#666666','size':16}\n",
    "font2 = {'family':'arial','color':'#222222','size':10}\n",
    "plt.title('Marriage Rate', loc = 'center', fontdict = font1)\n",
    "plt.xlabel('Year', fontdict = font2)\n",
    "plt.ylabel('Ratio to Average Population', fontdict = font2)\n",
    "plt.ylim(0, 300)\n",
    "plt.xlim()\n",
    "plt.show()"
   ]
  },
  {
   "cell_type": "code",
   "execution_count": 180,
   "id": "25d7064b-ea4a-4eb1-a7eb-d208a3fe5f01",
   "metadata": {
    "tags": []
   },
   "outputs": [],
   "source": [
    "# Include the other descriptive characteristics about the variables: \n",
    "# Mean (Chapter 2)."
   ]
  },
  {
   "cell_type": "code",
   "execution_count": 181,
   "id": "bb3b3f97-f6e1-4bea-a6cf-396ee2033cee",
   "metadata": {
    "tags": []
   },
   "outputs": [
    {
     "data": {
      "text/plain": [
       "6.446666666666666"
      ]
     },
     "execution_count": 181,
     "metadata": {},
     "output_type": "execute_result"
    }
   ],
   "source": [
    "# hist 08 - Marriage Rate mean\n",
    "\n",
    "statistics.mean(dt_seoul.Marriage_rate)"
   ]
  },
  {
   "cell_type": "code",
   "execution_count": 182,
   "id": "85516f75-f318-42b3-9b86-8bcff4cd7009",
   "metadata": {
    "tags": []
   },
   "outputs": [],
   "source": [
    "# Include the other descriptive characteristics about the variables: \n",
    "# Mode (Chapter 2)."
   ]
  },
  {
   "cell_type": "code",
   "execution_count": 183,
   "id": "e904a55d-aab4-4f78-b5ad-3f5e409e47ba",
   "metadata": {
    "tags": []
   },
   "outputs": [
    {
     "data": {
      "text/plain": [
       "6.7"
      ]
     },
     "execution_count": 183,
     "metadata": {},
     "output_type": "execute_result"
    }
   ],
   "source": [
    "# hist 08 - Marriage Rate mode\n",
    "\n",
    "statistics.mode(dt_seoul.Marriage_rate)"
   ]
  },
  {
   "cell_type": "code",
   "execution_count": 184,
   "id": "b6d1ad99-e313-45b6-a8d8-5ad0be635dc8",
   "metadata": {
    "tags": []
   },
   "outputs": [],
   "source": [
    "# Include the other descriptive characteristics about the variables: \n",
    "# Spread (Chapter 2)."
   ]
  },
  {
   "cell_type": "code",
   "execution_count": 185,
   "id": "79ec1810-bb03-44a3-867a-f8b8780d3f2a",
   "metadata": {
    "tags": []
   },
   "outputs": [
    {
     "data": {
      "text/plain": [
       "2.4799702602230504"
      ]
     },
     "execution_count": 185,
     "metadata": {},
     "output_type": "execute_result"
    }
   ],
   "source": [
    "# hist 08 - Marriage Rate spread\n",
    "\n",
    "dt_seoul.Marriage_rate.var()"
   ]
  },
  {
   "cell_type": "code",
   "execution_count": 186,
   "id": "e6e89d6e-dd07-44ef-98ea-8b80acbb36a5",
   "metadata": {
    "tags": []
   },
   "outputs": [],
   "source": [
    "# Include the other descriptive characteristics about the variables: \n",
    "# ails (Chapter 2)."
   ]
  },
  {
   "cell_type": "code",
   "execution_count": 187,
   "id": "97327c12-d381-4aee-9feb-8add9a18928c",
   "metadata": {
    "tags": []
   },
   "outputs": [
    {
     "data": {
      "text/plain": [
       "Region\n",
       "Seoul    4.1\n",
       "Seoul    3.5\n",
       "Seoul    3.7\n",
       "Seoul    4.1\n",
       "Seoul    3.4\n",
       "Name: Marriage_rate, dtype: float64"
      ]
     },
     "execution_count": 187,
     "metadata": {},
     "output_type": "execute_result"
    }
   ],
   "source": [
    "# hist 08 - Marriage Rate tail\n",
    "\n",
    "dt_seoul.Marriage_rate.tail()"
   ]
  },
  {
   "cell_type": "markdown",
   "id": "e7863856-3cac-46f5-9604-0020d5d5b1a5",
   "metadata": {},
   "source": [
    "# Include a histogram of each of the 5 variables – in your summary and analysis, \n",
    "# identify any outliers and explain the reasoning for them being outliers \n",
    "# and how you believe they should be handled (Chapter 2)."
   ]
  },
  {
   "cell_type": "code",
   "execution_count": 188,
   "id": "53a75808-e479-42a6-99b5-4a0b58542083",
   "metadata": {
    "tags": []
   },
   "outputs": [],
   "source": [
    "# comments\n",
    "\n",
    "## Natural growth per year.\n",
    "## Relevant figures should be from 2000-2020;\n",
    "## Datapoints before 2000 seem to be erratic.\n",
    "## Mean: \t3,642.87\n",
    "## Mode: \t4,318.0\n",
    "## Spread: \t4,659,971.10\n",
    "## Tail: \tRegion\n",
    "## Seoul    -1059.0\n",
    "## Seoul    -2527.0\n",
    "## Seoul    -1747.0\n",
    "## Seoul    -800.0\n",
    "## Seoul    -494.0"
   ]
  },
  {
   "cell_type": "code",
   "execution_count": 189,
   "id": "15f22849-26a9-4622-9f21-0007bc015f06",
   "metadata": {
    "tags": []
   },
   "outputs": [
    {
     "data": {
      "image/png": "[encoded data removed]",
      "text/plain": [
       "<Figure size 640x480 with 1 Axes>"
      ]
     },
     "metadata": {},
     "output_type": "display_data"
    }
   ],
   "source": [
    "# hist 09 - Natural Growth\n",
    "\n",
    "x09 = dt_seoul.Date\n",
    "y09 = dt_seoul.Natural_growth\n",
    "\n",
    "plt.hist([x09, y09], bins = 20, alpha = 0.5)\n",
    "font1 = {'family':'arial','color':'#666666','size':16}\n",
    "font2 = {'family':'arial','color':'#222222','size':10}\n",
    "plt.title('Natural Growth', loc = 'center', fontdict = font1)\n",
    "plt.xlabel('Year', fontdict = font2)\n",
    "plt.ylabel('Total', fontdict = font2)\n",
    "plt.ylim(0, 100)\n",
    "plt.xlim()\n",
    "plt.show()"
   ]
  },
  {
   "cell_type": "code",
   "execution_count": 190,
   "id": "2867d69e-35e6-433a-8b4a-6f51a136b2e7",
   "metadata": {
    "tags": []
   },
   "outputs": [],
   "source": [
    "# Include the other descriptive characteristics about the variables: \n",
    "# Mean (Chapter 2)."
   ]
  },
  {
   "cell_type": "code",
   "execution_count": 191,
   "id": "2b066b99-ec9c-4a39-af94-dca6dcf7b08b",
   "metadata": {
    "tags": []
   },
   "outputs": [
    {
     "data": {
      "text/plain": [
       "3642.866666666667"
      ]
     },
     "execution_count": 191,
     "metadata": {},
     "output_type": "execute_result"
    }
   ],
   "source": [
    "# hist 09 - Natural Growth mean\n",
    "\n",
    "statistics.mean(dt_seoul.Natural_growth)"
   ]
  },
  {
   "cell_type": "code",
   "execution_count": 192,
   "id": "5c937a92-c171-4304-bf0f-4a807998b672",
   "metadata": {
    "tags": []
   },
   "outputs": [],
   "source": [
    "# Include the other descriptive characteristics about the variables: \n",
    "# Mode (Chapter 2)."
   ]
  },
  {
   "cell_type": "code",
   "execution_count": 193,
   "id": "46b23183-aaf7-46ff-99bc-f0847b6271f2",
   "metadata": {
    "tags": []
   },
   "outputs": [
    {
     "data": {
      "text/plain": [
       "4318.0"
      ]
     },
     "execution_count": 193,
     "metadata": {},
     "output_type": "execute_result"
    }
   ],
   "source": [
    "# hist 09 - Natural Growth mode\n",
    "\n",
    "statistics.mode(dt_seoul.Natural_growth)"
   ]
  },
  {
   "cell_type": "code",
   "execution_count": 194,
   "id": "5cab8430-51e2-42e4-8c0f-dd7fd9029d48",
   "metadata": {
    "tags": []
   },
   "outputs": [],
   "source": [
    "# Include the other descriptive characteristics about the variables: \n",
    "# Spread (Chapter 2)."
   ]
  },
  {
   "cell_type": "code",
   "execution_count": 195,
   "id": "c2f7b770-d3e4-4ce9-92dc-55c09e5268c9",
   "metadata": {
    "tags": []
   },
   "outputs": [
    {
     "data": {
      "text/plain": [
       "4659971.097397769"
      ]
     },
     "execution_count": 195,
     "metadata": {},
     "output_type": "execute_result"
    }
   ],
   "source": [
    "# hist 09 - Natural Growth spread\n",
    "\n",
    "dt_seoul.Natural_growth.var()"
   ]
  },
  {
   "cell_type": "code",
   "execution_count": 196,
   "id": "19a0834a-3af8-4cac-8eb3-a7105533c10e",
   "metadata": {
    "tags": []
   },
   "outputs": [],
   "source": [
    "# Include the other descriptive characteristics about the variables: \n",
    "# Tails (Chapter 2)."
   ]
  },
  {
   "cell_type": "code",
   "execution_count": 197,
   "id": "865af2c2-0e42-4acf-9827-a35a88c4cc98",
   "metadata": {
    "tags": []
   },
   "outputs": [
    {
     "data": {
      "text/plain": [
       "Region\n",
       "Seoul   -1059.0\n",
       "Seoul   -2527.0\n",
       "Seoul   -1747.0\n",
       "Seoul    -800.0\n",
       "Seoul    -494.0\n",
       "Name: Natural_growth, dtype: float64"
      ]
     },
     "execution_count": 197,
     "metadata": {},
     "output_type": "execute_result"
    }
   ],
   "source": [
    "# hist 09 - Natural Growth tail\n",
    "\n",
    "dt_seoul.Natural_growth.tail()"
   ]
  },
  {
   "cell_type": "markdown",
   "id": "ab9e2532-a46e-4ae3-95f3-39c862b5a774",
   "metadata": {},
   "source": [
    "# Include a histogram of each of the 5 variables – in your summary and analysis, \n",
    "# identify any outliers and explain the reasoning for them being outliers \n",
    "# and how you believe they should be handled (Chapter 2)."
   ]
  },
  {
   "cell_type": "code",
   "execution_count": 198,
   "id": "be5323a8-6878-4960-abef-883feb5f2857",
   "metadata": {
    "tags": []
   },
   "outputs": [],
   "source": [
    "# comments\n",
    "\n",
    "## Natural growth rate per year.\n",
    "## Relevant figures should be from 2000-2020;\n",
    "## Obvious outlier is the datapoint for 1970.\n",
    "## Mean: \t4.31\n",
    "## Mode: \t5.50\n",
    "## Spread: \t6.39\n",
    "## Tail:     Region\n",
    "## Seoul    -1.5\n",
    "## Seoul    -3.2\n",
    "## Seoul    -2.3\n",
    "## Seoul    -1.0\n",
    "## Seoul    -0.6"
   ]
  },
  {
   "cell_type": "code",
   "execution_count": 199,
   "id": "7258271a-39a2-4def-bdd0-f8b24b48d93a",
   "metadata": {
    "tags": []
   },
   "outputs": [
    {
     "data": {
      "image/png": "[encoded data removed]",
      "text/plain": [
       "<Figure size 640x480 with 1 Axes>"
      ]
     },
     "metadata": {},
     "output_type": "display_data"
    }
   ],
   "source": [
    "# hist 10 - Natural Growth Rate\n",
    "\n",
    "x10 = dt_seoul.Date\n",
    "y10 = dt_seoul.Natural_growth_rate\n",
    "\n",
    "plt.hist([x10, y10], bins = 20, alpha = 0.5)\n",
    "font1 = {'family':'arial','color':'#666666','size':16}\n",
    "font2 = {'family':'arial','color':'#222222','size':10}\n",
    "plt.title('Natural Growth Rate', loc = 'center', fontdict = font1)\n",
    "plt.xlabel('Year', fontdict = font2)\n",
    "plt.ylabel('Ratio to Average Population', fontdict = font2)\n",
    "plt.ylim(0, 300)\n",
    "plt.xlim()\n",
    "plt.show()"
   ]
  },
  {
   "cell_type": "code",
   "execution_count": 200,
   "id": "613555ee-3e46-4912-af79-abe4b7a084b5",
   "metadata": {
    "tags": []
   },
   "outputs": [],
   "source": [
    "# Include the other descriptive characteristics about the variables: \n",
    "# Mean (Chapter 2)."
   ]
  },
  {
   "cell_type": "code",
   "execution_count": 201,
   "id": "95609f25-6932-4ae2-b83c-4eff4e3da1a3",
   "metadata": {
    "tags": []
   },
   "outputs": [
    {
     "data": {
      "text/plain": [
       "4.310370370370371"
      ]
     },
     "execution_count": 201,
     "metadata": {},
     "output_type": "execute_result"
    }
   ],
   "source": [
    "# hist 10 - Natural Growth Rate mean\n",
    "\n",
    "statistics.mean(dt_seoul.Natural_growth_rate)"
   ]
  },
  {
   "cell_type": "code",
   "execution_count": 202,
   "id": "2478801d-66d6-45e7-a334-1271f5ed4a4a",
   "metadata": {
    "tags": []
   },
   "outputs": [],
   "source": [
    "# Include the other descriptive characteristics about the variables: \n",
    "# Mode (Chapter 2)."
   ]
  },
  {
   "cell_type": "code",
   "execution_count": 203,
   "id": "6d0d186e-7cbd-4d25-a59c-d2c9a93f29c4",
   "metadata": {
    "tags": []
   },
   "outputs": [
    {
     "data": {
      "text/plain": [
       "5.5"
      ]
     },
     "execution_count": 203,
     "metadata": {},
     "output_type": "execute_result"
    }
   ],
   "source": [
    "# hist 10 - Natural Growth Rate mode\n",
    "\n",
    "statistics.mode(dt_seoul.Natural_growth_rate)"
   ]
  },
  {
   "cell_type": "code",
   "execution_count": 204,
   "id": "f7bd7511-2e8c-440f-855f-388c74d7033c",
   "metadata": {
    "tags": []
   },
   "outputs": [],
   "source": [
    "# Include the other descriptive characteristics about the variables: \n",
    "# Spread (Chapter 2)."
   ]
  },
  {
   "cell_type": "code",
   "execution_count": 205,
   "id": "e25a2cb1-8157-4fc9-aac9-4b4fe680e7e6",
   "metadata": {
    "tags": []
   },
   "outputs": [
    {
     "data": {
      "text/plain": [
       "6.391341869750788"
      ]
     },
     "execution_count": 205,
     "metadata": {},
     "output_type": "execute_result"
    }
   ],
   "source": [
    "# hist 10 - Natural Growth Rate spread\n",
    "\n",
    "dt_seoul.Natural_growth_rate.var()"
   ]
  },
  {
   "cell_type": "code",
   "execution_count": 206,
   "id": "a57e0d2b-e6df-44ff-ac4a-114cd67da438",
   "metadata": {
    "tags": []
   },
   "outputs": [],
   "source": [
    "# Include the other descriptive characteristics about the variables: \n",
    "# Tails (Chapter 2)."
   ]
  },
  {
   "cell_type": "code",
   "execution_count": 207,
   "id": "de810a26-9ff0-48f2-bf04-8f778c1801fc",
   "metadata": {
    "tags": []
   },
   "outputs": [
    {
     "data": {
      "text/plain": [
       "Region\n",
       "Seoul   -1.5\n",
       "Seoul   -3.2\n",
       "Seoul   -2.3\n",
       "Seoul   -1.0\n",
       "Seoul   -0.6\n",
       "Name: Natural_growth_rate, dtype: float64"
      ]
     },
     "execution_count": 207,
     "metadata": {},
     "output_type": "execute_result"
    }
   ],
   "source": [
    "# hist 10 - Natural Growth Rate tail\n",
    "\n",
    "dt_seoul.Natural_growth_rate.tail()"
   ]
  },
  {
   "cell_type": "markdown",
   "id": "54e44668-2210-465f-bde9-123c1571f772",
   "metadata": {},
   "source": [
    "# Using pg. 29 of your text as an example, \n",
    "# compare two scenarios in your data using a PMF. \n",
    "# Reminder, this isn’t comparing two variables against each other – it is the same variable, \n",
    "# but a different scenario. Almost like a filter. \n",
    "# The example in the book is first babies compared to all other babies, \n",
    "# it is still the same variable, but breaking the data out based on criteria we are exploring (Chapter 3)."
   ]
  },
  {
   "cell_type": "code",
   "execution_count": 208,
   "id": "8edffd60-bc98-4908-93ad-5c44a1884a9d",
   "metadata": {
    "tags": []
   },
   "outputs": [
    {
     "data": {
      "image/png": "[encoded data removed]",
      "text/plain": [
       "<Figure size 640x480 with 1 Axes>"
      ]
     },
     "metadata": {},
     "output_type": "display_data"
    }
   ],
   "source": [
    "# hist of dt_seoul.Natural_growth_rate\n",
    "\n",
    "hist = thinkstats2.Hist(dt_seoul.Natural_growth_rate, label=\"dt_seoul.Natural_growth_rate\")\n",
    "thinkplot.Hist(hist)\n",
    "thinkplot.Config(xlabel=\"growth\", ylabel=\"Count\")"
   ]
  },
  {
   "cell_type": "code",
   "execution_count": 209,
   "id": "659954af-dae5-446f-9a5f-718a5aebd3fb",
   "metadata": {
    "tags": []
   },
   "outputs": [
    {
     "data": {
      "image/png": "[encoded data removed]",
      "text/plain": [
       "<Figure size 640x480 with 1 Axes>"
      ]
     },
     "metadata": {},
     "output_type": "display_data"
    }
   ],
   "source": [
    "# hist of dt_seoul.Birth_rate\n",
    "\n",
    "hist = thinkstats2.Hist(dt_seoul.Birth_rate, label=\"dt_seoul.Birth_rate\")\n",
    "thinkplot.Hist(hist)\n",
    "thinkplot.Config(xlabel=\"birth\", ylabel=\"Count\")"
   ]
  },
  {
   "cell_type": "code",
   "execution_count": 210,
   "id": "8907afc7-8543-4df3-b0d8-6749b5dc622c",
   "metadata": {
    "tags": []
   },
   "outputs": [
    {
     "data": {
      "image/png": "[encoded data removed]",
      "text/plain": [
       "<Figure size 640x480 with 1 Axes>"
      ]
     },
     "metadata": {},
     "output_type": "display_data"
    }
   ],
   "source": [
    "# hist of dt_seoul.Natural_growth\n",
    "\n",
    "hist = thinkstats2.Hist(dt_seoul.Natural_growth, label=\"dt_seoul.Natural_growth\")\n",
    "thinkplot.Hist(hist)\n",
    "thinkplot.Config(xlabel=\"growth\", ylabel=\"Count\")"
   ]
  },
  {
   "cell_type": "code",
   "execution_count": 211,
   "id": "af7542d4-a108-4e6b-9ce2-7465993ffe13",
   "metadata": {
    "tags": []
   },
   "outputs": [
    {
     "data": {
      "image/png": "[encoded data removed]",
      "text/plain": [
       "<Figure size 640x480 with 1 Axes>"
      ]
     },
     "metadata": {},
     "output_type": "display_data"
    }
   ],
   "source": [
    "# hist of dt_seoul.Birth_rate\n",
    "\n",
    "hist = thinkstats2.Hist(dt_seoul.Birth_rate, label=\"dt_seoul.Birth_rate\")\n",
    "thinkplot.Hist(hist)\n",
    "thinkplot.Config(xlabel=\"birth\", ylabel=\"Count\")"
   ]
  },
  {
   "cell_type": "markdown",
   "id": "81df8e7a-f272-4d99-b4eb-929fb29d99d8",
   "metadata": {},
   "source": [
    "# Using pg. 29 of your text as an example, \n",
    "# compare two scenarios in your data using a PMF. \n",
    "# Reminder, this isn’t comparing two variables against each other – it is the same variable, \n",
    "# but a different scenario. Almost like a filter. \n",
    "# The example in the book is first babies compared to all other babies, \n",
    "# it is still the same variable, but breaking the data out based on criteria we are exploring (Chapter 3)."
   ]
  },
  {
   "cell_type": "code",
   "execution_count": 212,
   "id": "6d07e042-7a50-4d39-94be-c3165c493ea0",
   "metadata": {
    "tags": []
   },
   "outputs": [],
   "source": [
    "# assign hist\n",
    "\n",
    "n = hist.Total()\n",
    "pmf = hist.Copy()\n",
    "for x, freq in hist.Items():\n",
    "    pmf1[x] = freq / n"
   ]
  },
  {
   "cell_type": "code",
   "execution_count": 213,
   "id": "d98edd6e-cf71-4fc7-a267-54cea07de79e",
   "metadata": {
    "tags": []
   },
   "outputs": [
    {
     "data": {
      "image/png": "[encoded data removed]",
      "text/plain": [
       "<Figure size 640x480 with 1 Axes>"
      ]
     },
     "metadata": {},
     "output_type": "display_data"
    }
   ],
   "source": [
    "# hist config pmf\n",
    "\n",
    "thinkplot.Hist(pmf1)\n",
    "thinkplot.Config(xlabel=\"growth\", ylabel=\"PMF\")"
   ]
  },
  {
   "cell_type": "code",
   "execution_count": 214,
   "id": "499b08ad-e391-4cdb-82de-c8723d54c005",
   "metadata": {
    "tags": []
   },
   "outputs": [],
   "source": [
    "# assign hist\n",
    "\n",
    "n = hist.Total()\n",
    "pmf = hist.Copy()\n",
    "for x, freq in hist.Items():\n",
    "    pmf2[x] = freq / n"
   ]
  },
  {
   "cell_type": "code",
   "execution_count": 215,
   "id": "8368ec54-1df7-4ff8-bff1-63d4a21c0eee",
   "metadata": {
    "tags": []
   },
   "outputs": [
    {
     "data": {
      "image/png": "[encoded data removed]",
      "text/plain": [
       "<Figure size 640x480 with 1 Axes>"
      ]
     },
     "metadata": {},
     "output_type": "display_data"
    }
   ],
   "source": [
    "# hist config pmf\n",
    "\n",
    "thinkplot.Hist(pmf)\n",
    "thinkplot.Config(xlabel=\"birth\", ylabel=\"PMF\")"
   ]
  },
  {
   "cell_type": "code",
   "execution_count": 216,
   "id": "2571a21d-345a-49dc-8d82-e930dee2a913",
   "metadata": {
    "tags": []
   },
   "outputs": [
    {
     "data": {
      "text/plain": [
       "Pmf({1: 0.2, 2: 0.4, 3: 0.2, 5: 0.2})"
      ]
     },
     "execution_count": 216,
     "metadata": {},
     "output_type": "execute_result"
    }
   ],
   "source": [
    "# assign pmf\n",
    "\n",
    "pmf1 = thinkstats2.Pmf([1, 2, 2, 3, 5])\n",
    "pmf1"
   ]
  },
  {
   "cell_type": "code",
   "execution_count": 217,
   "id": "a092f4f5-e57c-42bc-859a-d6fae56718da",
   "metadata": {
    "tags": []
   },
   "outputs": [],
   "source": [
    "# assign pmf\n",
    "\n",
    "pmf1 = thinkstats2.Pmf(dt_seoul.Natural_growth_rate, label=\"dt_seoul.Natural_growth_rate\")"
   ]
  },
  {
   "cell_type": "code",
   "execution_count": 218,
   "id": "b839c2fd-a404-4c24-bfde-271fc967aa62",
   "metadata": {},
   "outputs": [],
   "source": [
    "# PMF of natural growth rate"
   ]
  },
  {
   "cell_type": "code",
   "execution_count": 219,
   "id": "f5b52ed9-49e0-43be-ad37-b0a94bf05d5c",
   "metadata": {
    "tags": []
   },
   "outputs": [
    {
     "data": {
      "image/png": "[encoded data removed]",
      "text/plain": [
       "<Figure size 640x480 with 1 Axes>"
      ]
     },
     "metadata": {},
     "output_type": "display_data"
    }
   ],
   "source": [
    "# hist dt_seoul.Natural_growth_rate\n",
    "\n",
    "thinkplot.Hist(pmf1)\n",
    "thinkplot.Config(xlabel=\"dt_seoul.Natural_growth_rate\", ylabel=\"Pmf\")"
   ]
  },
  {
   "cell_type": "code",
   "execution_count": 220,
   "id": "b981a88c-6d9f-40fa-aa0c-8efc636606da",
   "metadata": {
    "tags": []
   },
   "outputs": [
    {
     "data": {
      "image/png": "[encoded data removed]",
      "text/plain": [
       "<Figure size 640x480 with 1 Axes>"
      ]
     },
     "metadata": {},
     "output_type": "display_data"
    }
   ],
   "source": [
    "# hist dt_seoul.Natural_growth_rate\n",
    "\n",
    "thinkplot.Pmf(pmf1)\n",
    "thinkplot.Config(xlabel=\"dt_seoul.Natural_growth_rate\", ylabel=\"Pmf\")"
   ]
  },
  {
   "cell_type": "code",
   "execution_count": 221,
   "id": "77f4b095-c2f8-41ff-a378-98865e6c2ec8",
   "metadata": {
    "tags": []
   },
   "outputs": [],
   "source": [
    "# assign\n",
    "\n",
    "Natural_growth_rate, Natural_growth, Marriage_rate = first.MakeFrames()"
   ]
  },
  {
   "cell_type": "code",
   "execution_count": 222,
   "id": "669f9ee1-f24e-4c59-965d-c90ccde09ca7",
   "metadata": {
    "tags": []
   },
   "outputs": [],
   "source": [
    "# assign\n",
    "\n",
    "Natural_growth_rate = thinkstats2.Pmf(dt_seoul.Natural_growth_rate, label=\"dt_seoul.Natural_growth_rate\")\n",
    "Natural_growth = thinkstats2.Pmf(dt_seoul.Natural_growth, label=\"dt_seoul.Natural_growth\")"
   ]
  },
  {
   "cell_type": "code",
   "execution_count": 223,
   "id": "0236bdcf-4f87-4fab-a862-cba9bcedb894",
   "metadata": {},
   "outputs": [],
   "source": [
    "# Natural growth rate / Growth rate"
   ]
  },
  {
   "cell_type": "code",
   "execution_count": 224,
   "id": "69bedd40-6596-4702-8171-da39d4476bc3",
   "metadata": {
    "tags": []
   },
   "outputs": [
    {
     "data": {
      "image/png": "[encoded data removed]",
      "text/plain": [
       "<Figure size 1200x600 with 2 Axes>"
      ]
     },
     "metadata": {},
     "output_type": "display_data"
    }
   ],
   "source": [
    "# hist PMF\n",
    "\n",
    "width = 45.0\n",
    "axis = [-2000, 9000, 0, 0.04]\n",
    "thinkplot.PrePlot(2, cols=2)\n",
    "thinkplot.Hist(Natural_growth_rate, align=\"right\", width=width)\n",
    "thinkplot.Hist(Natural_growth, align=\"left\", width=width)\n",
    "thinkplot.Config(xlabel=\"dt_seoul.Natural_growth_rate\", ylabel=\"PMF\", axis=axis)\n",
    "\n",
    "thinkplot.PrePlot(2)\n",
    "thinkplot.SubPlot(2)\n",
    "thinkplot.Pmfs([Natural_growth_rate, Natural_growth])\n",
    "thinkplot.Config(xlabel=\"dt_seoul.Natural_growth_rate\", axis=axis)"
   ]
  },
  {
   "cell_type": "code",
   "execution_count": 225,
   "id": "35a1624d-4055-406b-a0e9-ca909875a54a",
   "metadata": {
    "tags": []
   },
   "outputs": [
    {
     "data": {
      "text/plain": [
       "Pmf({1: 0.2, 2: 0.4, 3: 0.2, 5: 0.2})"
      ]
     },
     "execution_count": 225,
     "metadata": {},
     "output_type": "execute_result"
    }
   ],
   "source": [
    "# assign pmf\n",
    "\n",
    "pmf2 = thinkstats2.Pmf([1, 2, 2, 3, 5])\n",
    "pmf2"
   ]
  },
  {
   "cell_type": "code",
   "execution_count": 226,
   "id": "0c358c88-ba99-412e-9dd9-39a4f86507f2",
   "metadata": {
    "tags": []
   },
   "outputs": [],
   "source": [
    "# assign pmf\n",
    "\n",
    "pmf2 = thinkstats2.Pmf(dt_seoul.Birth_rate, label=\"dt_seoul.Birth_rate\")"
   ]
  },
  {
   "cell_type": "code",
   "execution_count": 227,
   "id": "4d1927c2-6f96-4991-9ab3-b3126b57be4a",
   "metadata": {
    "tags": []
   },
   "outputs": [],
   "source": [
    "# PMF of birth rate"
   ]
  },
  {
   "cell_type": "code",
   "execution_count": 228,
   "id": "43444154-c61a-489a-b8b8-3d9a39dbdbe0",
   "metadata": {
    "tags": []
   },
   "outputs": [
    {
     "data": {
      "image/png": "[encoded data removed]",
      "text/plain": [
       "<Figure size 640x480 with 1 Axes>"
      ]
     },
     "metadata": {},
     "output_type": "display_data"
    }
   ],
   "source": [
    "# hist dt_seoul.Birth_rate\n",
    "\n",
    "thinkplot.Hist(pmf2)\n",
    "thinkplot.Config(xlabel=\"dt_seoul.Birth_rate\", ylabel=\"Pmf\")"
   ]
  },
  {
   "cell_type": "code",
   "execution_count": 229,
   "id": "68e83159-a11d-4213-82a3-4285a49ff28b",
   "metadata": {
    "tags": []
   },
   "outputs": [
    {
     "data": {
      "image/png": "[encoded data removed]",
      "text/plain": [
       "<Figure size 640x480 with 1 Axes>"
      ]
     },
     "metadata": {},
     "output_type": "display_data"
    }
   ],
   "source": [
    "# hist dt_seoul.Birth_rate\n",
    "\n",
    "thinkplot.Pmf(pmf2)\n",
    "thinkplot.Config(xlabel=\"dt_seoul.Birth_rate\", ylabel=\"Pmf\")"
   ]
  },
  {
   "cell_type": "markdown",
   "id": "513fdb40-153f-485c-928b-f7de04aa52fc",
   "metadata": {},
   "source": [
    "# Create 1 CDF with one of your variables, \n",
    "# using page 41-44 as your guide, what does this tell you about your variable \n",
    "# and how does it address the question you are trying to answer (Chapter 4)."
   ]
  },
  {
   "cell_type": "code",
   "execution_count": 230,
   "id": "b8f0cc92-e965-4ee7-957a-0cc2f0c42725",
   "metadata": {
    "tags": []
   },
   "outputs": [],
   "source": [
    "# comments\n",
    "\n",
    "## graph seems to be erratic.\n",
    "## CDF does not accurately represent PMF for unknown reasons.\n",
    "## growth rate variable is static"
   ]
  },
  {
   "cell_type": "code",
   "execution_count": 231,
   "id": "51d944bb-d9ce-4c3f-b942-14e01ad4f922",
   "metadata": {},
   "outputs": [],
   "source": [
    "# func EvalCDF\n",
    "\n",
    "def EvalCdf(sample, x):\n",
    "    count = 0.0\n",
    "    for value in sample:\n",
    "        if value <= x:\n",
    "            count += 1\n",
    "\n",
    "    prob = count / len(sample)\n",
    "    return prob"
   ]
  },
  {
   "cell_type": "code",
   "execution_count": 232,
   "id": "3e3805c7-5742-4987-b520-76693b7ddd03",
   "metadata": {
    "tags": []
   },
   "outputs": [],
   "source": [
    "# assign t\n",
    "\n",
    "t = [1, 2, 2, 3, 5]"
   ]
  },
  {
   "cell_type": "code",
   "execution_count": 233,
   "id": "e23a6b0d-a030-478f-9612-2a2ffb8d355e",
   "metadata": {
    "tags": []
   },
   "outputs": [
    {
     "data": {
      "text/plain": [
       "(0.0, 0.2, 0.6, 0.8, 0.8, 1.0)"
      ]
     },
     "execution_count": 233,
     "metadata": {},
     "output_type": "execute_result"
    }
   ],
   "source": [
    "# assign eval\n",
    "\n",
    "EvalCdf(t, 0), EvalCdf(t, 1), EvalCdf(t, 2), EvalCdf(t, 3), EvalCdf(t, 4), EvalCdf(t, 5)"
   ]
  },
  {
   "cell_type": "code",
   "execution_count": 234,
   "id": "564f4f7d-b53b-4ca7-a456-476b7be254c9",
   "metadata": {},
   "outputs": [],
   "source": [
    "# CDF of natural growth rate"
   ]
  },
  {
   "cell_type": "code",
   "execution_count": 235,
   "id": "9f8f935e-a7ee-4fb0-b08a-5a19a8faeec7",
   "metadata": {
    "tags": []
   },
   "outputs": [
    {
     "data": {
      "image/png": "[encoded data removed]",
      "text/plain": [
       "<Figure size 640x480 with 1 Axes>"
      ]
     },
     "metadata": {},
     "output_type": "display_data"
    }
   ],
   "source": [
    "# hist CDF\n",
    "\n",
    "cdf = thinkstats2.Cdf(dt_seoul.Natural_growth_rate, label='dt_seoul.Natural_growth_rate')\n",
    "thinkplot.Cdf(cdf)\n",
    "thinkplot.Config(xlabel='dt_seoul.Natural_growth_rate', ylabel='CDF', loc='upper left')"
   ]
  },
  {
   "cell_type": "code",
   "execution_count": 236,
   "id": "748b7e2f-a079-4c2e-a9a4-fc78e458db9d",
   "metadata": {
    "tags": []
   },
   "outputs": [
    {
     "data": {
      "image/png": "[encoded data removed]",
      "text/plain": [
       "<Figure size 640x480 with 1 Axes>"
      ]
     },
     "metadata": {},
     "output_type": "display_data"
    }
   ],
   "source": [
    "# comparison\n",
    "\n",
    "x_Natural_growth_rate = thinkstats2.Cdf(dt_seoul.Natural_growth_rate, label='dt_seoul.Natural_growth_rate')\n",
    "x_Natural_growth = thinkstats2.Cdf(dt_seoul.Natural_growth, label='dt_seoul.Natural_growth')\n",
    "\n",
    "thinkplot.PrePlot(2)\n",
    "thinkplot.Cdfs([x_Natural_growth_rate, x_Natural_growth])\n",
    "thinkplot.Config(xlabel='x_Natural_growth_rate', ylabel='CDF')"
   ]
  },
  {
   "cell_type": "code",
   "execution_count": 237,
   "id": "c9a0591b-bf2b-47f2-bdc4-7cad57a16a73",
   "metadata": {
    "tags": []
   },
   "outputs": [],
   "source": [
    "# CDF of birth rate"
   ]
  },
  {
   "cell_type": "code",
   "execution_count": 238,
   "id": "20e5aa52-d526-473e-a156-96a1178e5d3a",
   "metadata": {
    "tags": []
   },
   "outputs": [
    {
     "data": {
      "image/png": "[encoded data removed]",
      "text/plain": [
       "<Figure size 640x480 with 1 Axes>"
      ]
     },
     "metadata": {},
     "output_type": "display_data"
    }
   ],
   "source": [
    "# hist CDF\n",
    "\n",
    "cdf = thinkstats2.Cdf(dt_seoul.Birth_rate, label='dt_seoul.Birth_rate')\n",
    "thinkplot.Cdf(cdf)\n",
    "thinkplot.Config(xlabel='dt_seoul.Birth_rate', ylabel='CDF', loc='upper left')"
   ]
  },
  {
   "cell_type": "code",
   "execution_count": 239,
   "id": "12d91b23-857e-4278-aeae-d6aa210cb3f2",
   "metadata": {
    "tags": []
   },
   "outputs": [],
   "source": [
    "# random\n",
    "\n",
    "import random\n",
    "\n",
    "def expovariate(lam):\n",
    "    p = random.random()\n",
    "    x = -np.log(1 - p) / lam\n",
    "    return x"
   ]
  },
  {
   "cell_type": "code",
   "execution_count": 240,
   "id": "0a4a646f-bb4f-4b3d-a0d5-c92adea980ed",
   "metadata": {},
   "outputs": [
    {
     "data": {
      "text/plain": [
       "(32.72727272727273, 33.933857886065574)"
      ]
     },
     "execution_count": 240,
     "metadata": {},
     "output_type": "execute_result"
    }
   ],
   "source": [
    "# analytical distributions\n",
    "\n",
    "import analytic\n",
    "\n",
    "df = analytic.ReadBabyBoom()\n",
    "diffs = df.minutes.diff()\n",
    "cdf = thinkstats2.Cdf(diffs, label=\"actual\")\n",
    "\n",
    "n = len(diffs)\n",
    "lam = 44.0 / 24 / 60\n",
    "sample = [random.expovariate(lam) for _ in range(n)]\n",
    "\n",
    "1 / lam, np.mean(sample)"
   ]
  },
  {
   "cell_type": "markdown",
   "id": "dd4a6f7b-6a05-413f-a0ee-d1d5aabd92f2",
   "metadata": {},
   "source": [
    "# Plot 1 analytical distribution and provide your analysis on how it applies to the dataset you have chosen (Chapter 5)."
   ]
  },
  {
   "cell_type": "code",
   "execution_count": 241,
   "id": "9aaeee97-2261-4247-a87d-00987d9b9c75",
   "metadata": {},
   "outputs": [],
   "source": [
    "# Distribution of random and actual"
   ]
  },
  {
   "cell_type": "code",
   "execution_count": 242,
   "id": "4731793a-0740-4745-a672-3620be7c380f",
   "metadata": {
    "tags": []
   },
   "outputs": [],
   "source": [
    "# comments\n",
    "\n",
    "## actual for model growth rates"
   ]
  },
  {
   "cell_type": "code",
   "execution_count": 243,
   "id": "e2409355-4d31-4bcd-86f2-e4a428182d7a",
   "metadata": {
    "tags": []
   },
   "outputs": [
    {
     "data": {
      "image/png": "[encoded data removed]",
      "text/plain": [
       "<Figure size 640x480 with 1 Axes>"
      ]
     },
     "metadata": {},
     "output_type": "display_data"
    }
   ],
   "source": [
    "# plot of distribution of random and actual distribution\n",
    "\n",
    "model = thinkstats2.Cdf(sample, label='model')\n",
    "    \n",
    "thinkplot.PrePlot(2)\n",
    "thinkplot.Cdfs([cdf, model], complement=True)\n",
    "thinkplot.Config(xlabel='x_Natural_growth_rate',\n",
    "                ylabel='CCDF',\n",
    "                yscale='log')"
   ]
  },
  {
   "cell_type": "markdown",
   "id": "26566774-6bfb-448c-8e67-993b72539d71",
   "metadata": {},
   "source": [
    "# Create two scatter plots comparing two variables and provide your analysis on correlation and causation. \n",
    "# Remember, covariance, Pearson’s correlation, \n",
    "# and Non-Linear Relationships should also be considered during your analysis (Chapter 7)."
   ]
  },
  {
   "cell_type": "code",
   "execution_count": 244,
   "id": "ec94ebfa-7e0e-49fd-9117-d14753cabb61",
   "metadata": {
    "tags": []
   },
   "outputs": [],
   "source": [
    "# comments\n",
    "\n",
    "## Corr:\t0.53\n",
    "## SPC:\t    0.51"
   ]
  },
  {
   "cell_type": "code",
   "execution_count": 245,
   "id": "07af5aff-6744-4a86-a55c-cdf218230728",
   "metadata": {
    "tags": []
   },
   "outputs": [],
   "source": [
    "# func Cov\n",
    "\n",
    "def Cov(xs, ys, meanx=None, meany=None):\n",
    "    xs = np.asarray(xs)\n",
    "    ys = np.asarray(ys)\n",
    "\n",
    "    if meanx is None:\n",
    "        meanx = np.mean(xs)\n",
    "    if meany is None:\n",
    "        meany = np.mean(ys)\n",
    "\n",
    "    cov = np.dot(xs-meanx, ys-meany) / len(xs)\n",
    "    return cov"
   ]
  },
  {
   "cell_type": "code",
   "execution_count": 246,
   "id": "a8c384ce-9f25-42d2-af3d-253b59e8b94d",
   "metadata": {
    "tags": []
   },
   "outputs": [],
   "source": [
    "# func Corr\n",
    "\n",
    "def Corr(xs, ys):\n",
    "    xs = np.asarray(xs)\n",
    "    ys = np.asarray(ys)\n",
    "\n",
    "    meanx, varx = thinkstats2.MeanVar(xs)\n",
    "    meany, vary = thinkstats2.MeanVar(ys)\n",
    "\n",
    "    corr = Cov(xs, ys, meanx, meany) / np.sqrt(varx * vary)\n",
    "    return corr"
   ]
  },
  {
   "cell_type": "code",
   "execution_count": 247,
   "id": "4d62a22b-7707-4e6d-84bb-d51bc7d630c4",
   "metadata": {
    "tags": []
   },
   "outputs": [],
   "source": [
    "# func SpearmanCorr\n",
    "\n",
    "def SpearmanCorr(xs, ys):\n",
    "    xranks = pd.Series(xs).rank()\n",
    "    yranks = pd.Series(ys).rank()\n",
    "    return Corr(xranks, yranks)"
   ]
  },
  {
   "cell_type": "code",
   "execution_count": 248,
   "id": "53b5004e-c16f-452a-b039-9246a3bc56c4",
   "metadata": {
    "tags": []
   },
   "outputs": [],
   "source": [
    "# func SpearmanCorr\n",
    "\n",
    "def SpearmanCorr(xs, ys):\n",
    "    xs = pd.Series(xs)\n",
    "    ys = pd.Series(ys)\n",
    "    return xs.corr(ys, method='spearman')"
   ]
  },
  {
   "cell_type": "code",
   "execution_count": 249,
   "id": "5e42a86e-a191-4be4-9893-f06f8a1dcfdb",
   "metadata": {
    "tags": []
   },
   "outputs": [
    {
     "name": "stdout",
     "output_type": "stream",
     "text": [
      "Corr 0.5296104115268587\n",
      "SpearmanCorr 0.5143026792909748\n"
     ]
    }
   ],
   "source": [
    "# assign natural growth rate, marriage rate\n",
    "\n",
    "Natural_growth_rate = dt_seoul.Natural_growth_rate\n",
    "Marriage_rate = dt_seoul.Marriage_rate\n",
    "print('Corr', Corr(Natural_growth_rate, Marriage_rate))\n",
    "print('SpearmanCorr', SpearmanCorr(Natural_growth_rate, Marriage_rate))"
   ]
  },
  {
   "cell_type": "code",
   "execution_count": 250,
   "id": "f8c37d77-d269-4019-a303-68ee4ddfd0d6",
   "metadata": {
    "tags": []
   },
   "outputs": [
    {
     "name": "stdout",
     "output_type": "stream",
     "text": [
      "Corr 1.0\n",
      "SpearmanCorr 1.0\n"
     ]
    }
   ],
   "source": [
    "# assign birth rate, birth\n",
    "\n",
    "Birth_rate = dt_seoul.Natural_growth_rate\n",
    "Birth = dt_seoul.Birth_rate\n",
    "print('Corr', Corr(Natural_growth_rate, Birth_rate))\n",
    "print('SpearmanCorr', SpearmanCorr(Natural_growth_rate, Birth_rate))"
   ]
  },
  {
   "cell_type": "code",
   "execution_count": 251,
   "id": "7ae2fe0c-c982-4a85-bbd4-019e2fd029f7",
   "metadata": {
    "tags": []
   },
   "outputs": [
    {
     "data": {
      "image/png": "[encoded data removed]",
      "text/plain": [
       "<Figure size 640x480 with 1 Axes>"
      ]
     },
     "metadata": {},
     "output_type": "display_data"
    }
   ],
   "source": [
    "# scatter plot\n",
    "\n",
    "thinkplot.Scatter(Natural_growth_rate, Marriage_rate, alpha=1, s=10)\n",
    "thinkplot.Config(xlabel='Natural_growth_rate',\n",
    "                     ylabel='Marriage_rate',\n",
    "                     xlim=[-5, 15],\n",
    "                     ylim=[-5, 15],\n",
    "                     legend=False)"
   ]
  },
  {
   "cell_type": "code",
   "execution_count": 252,
   "id": "b8bd72ad-eeb0-4833-b113-213e8ac89612",
   "metadata": {
    "tags": []
   },
   "outputs": [
    {
     "data": {
      "image/png": "[encoded data removed]",
      "text/plain": [
       "<Figure size 640x480 with 1 Axes>"
      ]
     },
     "metadata": {},
     "output_type": "display_data"
    }
   ],
   "source": [
    "# scatter plot\n",
    "\n",
    "thinkplot.Scatter(Natural_growth_rate, Birth_rate, alpha=1, s=10)\n",
    "thinkplot.Config(xlabel='Natural_growth_rate',\n",
    "                     ylabel='Birth_rate',\n",
    "                     xlim=[-5, 15],\n",
    "                     ylim=[-5, 20],\n",
    "                     legend=False)"
   ]
  },
  {
   "cell_type": "code",
   "execution_count": 253,
   "id": "e5ec2f66-86fe-4736-90b0-4e967c292c09",
   "metadata": {},
   "outputs": [],
   "source": [
    "# comments\n",
    "\n",
    "## Corr:\t1.00\n",
    "## SPC:\t    1.00"
   ]
  },
  {
   "cell_type": "code",
   "execution_count": 254,
   "id": "c1cf3b76-cb8d-49ed-8fae-fa466d936056",
   "metadata": {
    "tags": []
   },
   "outputs": [],
   "source": [
    "# comments\n",
    "\n",
    "## Corr          0.5296104115268587\n",
    "## SpearmanCorr  0.9967248778590662\n",
    "## indication of very high correlation between variables"
   ]
  },
  {
   "cell_type": "markdown",
   "id": "8358fff4-d75e-4585-ad95-e360008bbf26",
   "metadata": {},
   "source": [
    "# Conduct a test on your hypothesis using one of the methods covered in Chapter 9."
   ]
  },
  {
   "cell_type": "code",
   "execution_count": 255,
   "id": "f444b30e-7ad3-42ff-b9ca-2a024db7762c",
   "metadata": {
    "tags": []
   },
   "outputs": [],
   "source": [
    "# assign values\n",
    "\n",
    "Birth_rate, Natural_growth, Marriage_rate = first.MakeFrames()\n",
    "data = Natural_growth.values, Marriage_rate.values"
   ]
  },
  {
   "cell_type": "code",
   "execution_count": 256,
   "id": "221eb165-79fe-4fa8-af18-00651e0c01bd",
   "metadata": {
    "tags": []
   },
   "outputs": [],
   "source": [
    "# funcs MakeModel, RunModel, TestStatistic, ChiSquared\n",
    "\n",
    "class BirthMarriageTest(thinkstats2.HypothesisTest):\n",
    "\n",
    "    def MakeModel(self):\n",
    "        Natural_growth, Marriage_rate = self.data\n",
    "        self.n = len(Natural_growth)\n",
    "        self.pool = np.hstack((Natural_growth, Marriage_rate))\n",
    "\n",
    "        pmf = thinkstats2.Pmf(self.pool)\n",
    "        self.values = range(35, 44)\n",
    "        self.expected_probs = np.array(pmf.Probs(self.values))\n",
    "\n",
    "    def RunModel(self):\n",
    "        np.random.shuffle(self.pool)\n",
    "        data = self.pool[:self.n], self.pool[self.n:]\n",
    "        return data\n",
    "    \n",
    "    def TestStatistic(self, data):\n",
    "        Natural_growth, Marriage_rate = data\n",
    "        stat = self.ChiSquared(Natural_growth) + self.ChiSquared(Marriage_rate)\n",
    "        return stat\n",
    "\n",
    "    def ChiSquared(self, lengths):\n",
    "        hist = thinkstats2.Hist(lengths)\n",
    "        observed = np.array(hist.Freqs(self.values))\n",
    "        expected = self.expected_probs * len(lengths)\n",
    "        stat = sum((observed - expected)**2 / expected)\n",
    "        return stat"
   ]
  },
  {
   "cell_type": "code",
   "execution_count": 257,
   "id": "5d6a3809-4715-4422-9055-ef002dcae88f",
   "metadata": {
    "tags": []
   },
   "outputs": [],
   "source": [
    "#funcs DiffMeansPermute, MakeModel, RunModel\n",
    "\n",
    "class DiffMeansPermute(thinkstats2.HypothesisTest):\n",
    "\n",
    "    def TestStatistic(self, data):\n",
    "        group1, group2 = data\n",
    "        test_stat = abs(group1.mean() - group2.mean())\n",
    "        return test_stat\n",
    "\n",
    "    def MakeModel(self):\n",
    "        group1, group2 = self.data\n",
    "        self.n, self.m = len(group1), len(group2)\n",
    "        self.pool = np.hstack((group1, group2))\n",
    "\n",
    "    def RunModel(self):\n",
    "        np.random.shuffle(self.pool)\n",
    "        data = self.pool[:self.n], self.pool[self.n:]\n",
    "        return data"
   ]
  },
  {
   "cell_type": "code",
   "execution_count": 258,
   "id": "08fb4489-15c0-49e5-a014-3011300bb2cc",
   "metadata": {
    "tags": []
   },
   "outputs": [],
   "source": [
    "# funcs CorrelationPermute\n",
    "\n",
    "class CorrelationPermute(thinkstats2.HypothesisTest):\n",
    "\n",
    "    def TestStatistic(self, data):\n",
    "        xs, ys = data\n",
    "        test_stat = abs(thinkstats2.Corr(xs, ys))\n",
    "        return test_stat\n",
    "\n",
    "    def RunModel(self):\n",
    "        xs, ys = self.data\n",
    "        xs = np.random.permutation(xs)\n",
    "        return xs, ys"
   ]
  },
  {
   "cell_type": "code",
   "execution_count": 259,
   "id": "0607e00f-9935-4fd0-b7cc-d91528d45d65",
   "metadata": {
    "tags": []
   },
   "outputs": [],
   "source": [
    "# func RunTests\n",
    "\n",
    "def RunTests(Birth_rate, iters=1000):\n",
    "    n = len(Birth_rate)\n",
    "\n",
    "    # compare lengths\n",
    "    data = Natural_growth.prglngth.values, Marriage_rate.prglngth.values\n",
    "    ht = DiffMeansPermute(data)\n",
    "    p1 = ht.PValue(iters=iters)\n",
    "\n",
    "    data = (Natural_growth.totalwgt_lb.dropna().values,\n",
    "            Marriage_rate.totalwgt_lb.dropna().values)\n",
    "    ht = DiffMeansPermute(data)\n",
    "    p2 = ht.PValue(iters=iters)\n",
    "\n",
    "    # test correlation\n",
    "    Natural_growth2 = Natural_growth.dropna(subset=['agepreg', 'totalwgt_lb'])\n",
    "    data = Natural_growth2.agepreg.values, Natural_growth2.totalwgt_lb.values\n",
    "    ht = CorrelationPermute(data)\n",
    "    p3 = ht.PValue(iters=iters)\n",
    "\n",
    "    print('%d\\t%0.2f\\t%0.2f\\t%0.2f' % (n, p1, p2, p3))"
   ]
  },
  {
   "cell_type": "code",
   "execution_count": 260,
   "id": "7bd68496-e653-4119-99c6-cc21a186b31a",
   "metadata": {
    "tags": []
   },
   "outputs": [
    {
     "name": "stdout",
     "output_type": "stream",
     "text": [
      "72900\t0.17\t0.00\t0.00\n",
      "36450\t0.18\t0.00\t0.00\n",
      "18090\t0.17\t0.00\t0.00\n",
      "8910\t0.17\t0.00\t0.00\n",
      "4320\t0.16\t0.00\t0.00\n",
      "2160\t0.16\t0.00\t0.00\n",
      "1080\t0.16\t0.00\t0.00\n"
     ]
    }
   ],
   "source": [
    "# return means\n",
    "\n",
    "n = len(Natural_growth_rate)\n",
    "for _ in range(7):\n",
    "    sample = thinkstats2.SampleRows(Natural_growth_rate, n)\n",
    "    RunTests(sample)\n",
    "    n //= 2"
   ]
  },
  {
   "cell_type": "code",
   "execution_count": 261,
   "id": "a4ffccf6-0536-453b-a903-ce693f124fc7",
   "metadata": {},
   "outputs": [],
   "source": [
    "# comments\n",
    "\n",
    "## Natural growth rate:\n",
    "## 72900\t 0.17\t 0.00\t 0.00\n",
    "## 36450     0.16\t 0.00\t 0.00\n",
    "## 18090\t 0.15\t 0.00\t 0.00\n",
    "## 8910\t\t 0.17\t 0.00\t 0.00\n",
    "## 4320\t\t 0.16\t 0.00\t 0.00\n",
    "## 2160\t\t 0.18\t 0.00\t 0.00\n",
    "## 1080\t\t 0.16\t 0.00\t 0.00"
   ]
  },
  {
   "cell_type": "code",
   "execution_count": 262,
   "id": "9aac4f67-110d-406e-a1a7-0a68045eca99",
   "metadata": {
    "tags": []
   },
   "outputs": [
    {
     "name": "stdout",
     "output_type": "stream",
     "text": [
      "9148\t0.17\t0.00\t0.00\n",
      "4574\t0.18\t0.00\t0.00\n",
      "2287\t0.19\t0.00\t0.00\n",
      "1143\t0.16\t0.00\t0.00\n",
      "571\t0.16\t0.00\t0.00\n",
      "285\t0.16\t0.00\t0.00\n",
      "142\t0.19\t0.00\t0.00\n"
     ]
    }
   ],
   "source": [
    "# return means\n",
    "\n",
    "n = len(Birth_rate)\n",
    "for _ in range(7):\n",
    "    sample = thinkstats2.SampleRows(Birth_rate, n)\n",
    "    RunTests(sample)\n",
    "    n //= 2"
   ]
  },
  {
   "cell_type": "code",
   "execution_count": 263,
   "id": "6af61321-c05c-4aee-af08-4076ec872d40",
   "metadata": {},
   "outputs": [],
   "source": [
    "# comments\n",
    "\n",
    "## Birth rate:\n",
    "## 9148\t    0.17\t0.00\t0.00\n",
    "## 4574\t    0.18\t0.00\t0.00\n",
    "## 2287\t    0.17\t0.00\t0.00\n",
    "## 1143\t    0.14\t0.00\t0.00\n",
    "## 571\t    0.17\t0.00\t0.00\n",
    "## 285\t    0.16\t0.00\t0.00\n",
    "## 142\t    0.18\t0.00\t0.00"
   ]
  },
  {
   "cell_type": "code",
   "execution_count": 264,
   "id": "5c801406-c41d-4c0f-9175-9db733f63166",
   "metadata": {
    "tags": []
   },
   "outputs": [
    {
     "name": "stdout",
     "output_type": "stream",
     "text": [
      "4735\t0.16\t0.00\t0.00\n",
      "2367\t0.16\t0.00\t0.00\n",
      "1183\t0.18\t0.00\t0.00\n",
      "591\t0.18\t0.00\t0.00\n",
      "295\t0.17\t0.00\t0.00\n",
      "147\t0.16\t0.00\t0.00\n",
      "73\t0.17\t0.00\t0.00\n"
     ]
    }
   ],
   "source": [
    "# return means\n",
    "\n",
    "n = len(Marriage_rate)\n",
    "for _ in range(7):\n",
    "    sample = thinkstats2.SampleRows(Marriage_rate, n)\n",
    "    RunTests(sample)\n",
    "    n //= 2"
   ]
  },
  {
   "cell_type": "code",
   "execution_count": 265,
   "id": "fe8c65e2-af52-4cce-8642-7e724395b22f",
   "metadata": {},
   "outputs": [],
   "source": [
    "# comments\n",
    "\n",
    "## Marriage rate:\n",
    "## 4735\t    0.17\t0.00\t0.00\n",
    "## 2367\t    0.18\t0.00\t0.00\n",
    "## 1183\t    0.17\t0.00\t0.00\n",
    "## 591\t    0.17\t0.00\t0.00\n",
    "## 295\t    0.17\t0.00\t0.00\n",
    "## 147\t    0.18\t0.00\t0.00\n",
    "## 73\t    0.16\t0.00\t0.00"
   ]
  },
  {
   "cell_type": "markdown",
   "id": "4861d99b-6549-48b5-8998-b76cfdbac3b9",
   "metadata": {},
   "source": [
    "# For this project, conduct a regression analysis on either one dependent and one explanatory variable, \n",
    "# or multiple explanatory variables (Chapter 10 & 11)."
   ]
  },
  {
   "cell_type": "code",
   "execution_count": 266,
   "id": "b9b56130-3256-4a92-b85f-a855434925ed",
   "metadata": {
    "tags": []
   },
   "outputs": [],
   "source": [
    "# comments\n",
    "\n",
    "## Natural growth rate / Birth rate:\n",
    "\n",
    "## coefficient of determination: \t0.9808550068470339\n",
    "## intertercept: \t\t\t        5.125689303054168\n",
    "## coefficients: \t\t\t        [0.         0.62670069 0.02599732]\n",
    "\n",
    "## coefficient of determination: \t0.9808550068470339\n",
    "## intercept: \t\t\t\t        0.0\n",
    "## coefficients: \t\t\t        [5.1256893  0.62670069 0.02599732]\n",
    "\n",
    "## predicted response:\t\t        [14.33876204 14.57225102 14.45524656 12.87177839…"
   ]
  },
  {
   "cell_type": "code",
   "execution_count": 267,
   "id": "df15366d-a86e-4367-83d1-1e676c1b8087",
   "metadata": {
    "tags": []
   },
   "outputs": [],
   "source": [
    "# assign variables\n",
    "\n",
    "x = dt_seoul.Natural_growth_rate.values.reshape((-1, 1))\n",
    "y = dt_seoul.Birth_rate"
   ]
  },
  {
   "cell_type": "code",
   "execution_count": 268,
   "id": "b25eefa6-b80a-4f6f-a347-5aa78defe533",
   "metadata": {
    "tags": []
   },
   "outputs": [
    {
     "data": {
      "text/html": [
       "<style>#sk-container-id-1 {color: black;}#sk-container-id-1 pre{padding: 0;}#sk-container-id-1 div.sk-toggleable {background-color: white;}#sk-container-id-1 label.sk-toggleable__label {cursor: pointer;display: block;width: 100%;margin-bottom: 0;padding: 0.3em;box-sizing: border-box;text-align: center;}#sk-container-id-1 label.sk-toggleable__label-arrow:before {content: \"▸\";float: left;margin-right: 0.25em;color: #696969;}#sk-container-id-1 label.sk-toggleable__label-arrow:hover:before {color: black;}#sk-container-id-1 div.sk-estimator:hover label.sk-toggleable__label-arrow:before {color: black;}#sk-container-id-1 div.sk-toggleable__content {max-height: 0;max-width: 0;overflow: hidden;text-align: left;background-color: #f0f8ff;}#sk-container-id-1 div.sk-toggleable__content pre {margin: 0.2em;color: black;border-radius: 0.25em;background-color: #f0f8ff;}#sk-container-id-1 input.sk-toggleable__control:checked~div.sk-toggleable__content {max-height: 200px;max-width: 100%;overflow: auto;}#sk-container-id-1 input.sk-toggleable__control:checked~label.sk-toggleable__label-arrow:before {content: \"▾\";}#sk-container-id-1 div.sk-estimator input.sk-toggleable__control:checked~label.sk-toggleable__label {background-color: #d4ebff;}#sk-container-id-1 div.sk-label input.sk-toggleable__control:checked~label.sk-toggleable__label {background-color: #d4ebff;}#sk-container-id-1 input.sk-hidden--visually {border: 0;clip: rect(1px 1px 1px 1px);clip: rect(1px, 1px, 1px, 1px);height: 1px;margin: -1px;overflow: hidden;padding: 0;position: absolute;width: 1px;}#sk-container-id-1 div.sk-estimator {font-family: monospace;background-color: #f0f8ff;border: 1px dotted black;border-radius: 0.25em;box-sizing: border-box;margin-bottom: 0.5em;}#sk-container-id-1 div.sk-estimator:hover {background-color: #d4ebff;}#sk-container-id-1 div.sk-parallel-item::after {content: \"\";width: 100%;border-bottom: 1px solid gray;flex-grow: 1;}#sk-container-id-1 div.sk-label:hover label.sk-toggleable__label {background-color: #d4ebff;}#sk-container-id-1 div.sk-serial::before {content: \"\";position: absolute;border-left: 1px solid gray;box-sizing: border-box;top: 0;bottom: 0;left: 50%;z-index: 0;}#sk-container-id-1 div.sk-serial {display: flex;flex-direction: column;align-items: center;background-color: white;padding-right: 0.2em;padding-left: 0.2em;position: relative;}#sk-container-id-1 div.sk-item {position: relative;z-index: 1;}#sk-container-id-1 div.sk-parallel {display: flex;align-items: stretch;justify-content: center;background-color: white;position: relative;}#sk-container-id-1 div.sk-item::before, #sk-container-id-1 div.sk-parallel-item::before {content: \"\";position: absolute;border-left: 1px solid gray;box-sizing: border-box;top: 0;bottom: 0;left: 50%;z-index: -1;}#sk-container-id-1 div.sk-parallel-item {display: flex;flex-direction: column;z-index: 1;position: relative;background-color: white;}#sk-container-id-1 div.sk-parallel-item:first-child::after {align-self: flex-end;width: 50%;}#sk-container-id-1 div.sk-parallel-item:last-child::after {align-self: flex-start;width: 50%;}#sk-container-id-1 div.sk-parallel-item:only-child::after {width: 0;}#sk-container-id-1 div.sk-dashed-wrapped {border: 1px dashed gray;margin: 0 0.4em 0.5em 0.4em;box-sizing: border-box;padding-bottom: 0.4em;background-color: white;}#sk-container-id-1 div.sk-label label {font-family: monospace;font-weight: bold;display: inline-block;line-height: 1.2em;}#sk-container-id-1 div.sk-label-container {text-align: center;}#sk-container-id-1 div.sk-container {/* jupyter's `normalize.less` sets `[hidden] { display: none; }` but bootstrap.min.css set `[hidden] { display: none !important; }` so we also need the `!important` here to be able to override the default hidden behavior on the sphinx rendered scikit-learn.org. See: https://github.com/scikit-learn/scikit-learn/issues/21755 */display: inline-block !important;position: relative;}#sk-container-id-1 div.sk-text-repr-fallback {display: none;}</style><div id=\"sk-container-id-1\" class=\"sk-top-container\"><div class=\"sk-text-repr-fallback\"><pre>PolynomialFeatures(include_bias=False)</pre><b>In a Jupyter environment, please rerun this cell to show the HTML representation or trust the notebook. <br />On GitHub, the HTML representation is unable to render, please try loading this page with nbviewer.org.</b></div><div class=\"sk-container\" hidden><div class=\"sk-item\"><div class=\"sk-estimator sk-toggleable\"><input class=\"sk-toggleable__control sk-hidden--visually\" id=\"sk-estimator-id-1\" type=\"checkbox\" checked><label for=\"sk-estimator-id-1\" class=\"sk-toggleable__label sk-toggleable__label-arrow\">PolynomialFeatures</label><div class=\"sk-toggleable__content\"><pre>PolynomialFeatures(include_bias=False)</pre></div></div></div></div></div>"
      ],
      "text/plain": [
       "PolynomialFeatures(include_bias=False)"
      ]
     },
     "execution_count": 268,
     "metadata": {},
     "output_type": "execute_result"
    }
   ],
   "source": [
    "# transformer\n",
    "\n",
    "transformer = PolynomialFeatures(degree=2, include_bias=False)\n",
    "transformer.fit(x)"
   ]
  },
  {
   "cell_type": "code",
   "execution_count": 269,
   "id": "04fe1f2e-1c77-40b9-a183-99a1fcd3fdac",
   "metadata": {
    "tags": []
   },
   "outputs": [
    {
     "data": {
      "text/plain": [
       "array([[ 1.0300e+01,  1.0609e+02],\n",
       "       [ 1.0500e+01,  1.1025e+02],\n",
       "       [ 1.0400e+01,  1.0816e+02],\n",
       "       [ 9.0000e+00,  8.1000e+01],\n",
       "       [ 8.9000e+00,  7.9210e+01],\n",
       "       [ 8.0000e+00,  6.4000e+01],\n",
       "       [ 7.9000e+00,  6.2410e+01],\n",
       "       [ 8.4000e+00,  7.0560e+01],\n",
       "       [ 9.3000e+00,  8.6490e+01],\n",
       "       [ 9.4000e+00,  8.8360e+01],\n",
       "       [ 9.2000e+00,  8.4640e+01],\n",
       "       [ 8.1000e+00,  6.5610e+01],\n",
       "       [ 9.9000e+00,  9.8010e+01],\n",
       "       [ 9.0000e+00,  8.1000e+01],\n",
       "       [ 8.6000e+00,  7.3960e+01],\n",
       "       [ 7.8000e+00,  6.0840e+01],\n",
       "       [ 7.3000e+00,  5.3290e+01],\n",
       "       [ 6.3000e+00,  3.9690e+01],\n",
       "       [ 6.2000e+00,  3.8440e+01],\n",
       "       [ 7.0000e+00,  4.9000e+01],\n",
       "       [ 7.4000e+00,  5.4760e+01],\n",
       "       [ 6.8000e+00,  4.6240e+01],\n",
       "       [ 6.6000e+00,  4.3560e+01],\n",
       "       [ 6.0000e+00,  3.6000e+01],\n",
       "       [ 7.8000e+00,  6.0840e+01],\n",
       "       [ 7.7000e+00,  5.9290e+01],\n",
       "       [ 7.4000e+00,  5.4760e+01],\n",
       "       [ 6.6000e+00,  4.3560e+01],\n",
       "       [ 6.4000e+00,  4.0960e+01],\n",
       "       [ 5.7000e+00,  3.2490e+01],\n",
       "       [ 6.0000e+00,  3.6000e+01],\n",
       "       [ 5.9000e+00,  3.4810e+01],\n",
       "       [ 5.9000e+00,  3.4810e+01],\n",
       "       [ 5.5000e+00,  3.0250e+01],\n",
       "       [ 5.1000e+00,  2.6010e+01],\n",
       "       [ 4.0000e+00,  1.6000e+01],\n",
       "       [ 6.8000e+00,  4.6240e+01],\n",
       "       [ 7.3000e+00,  5.3290e+01],\n",
       "       [ 6.9000e+00,  4.7610e+01],\n",
       "       [ 6.5000e+00,  4.2250e+01],\n",
       "       [ 6.2000e+00,  3.8440e+01],\n",
       "       [ 5.6000e+00,  3.1360e+01],\n",
       "       [ 5.4000e+00,  2.9160e+01],\n",
       "       [ 5.3000e+00,  2.8090e+01],\n",
       "       [ 6.3000e+00,  3.9690e+01],\n",
       "       [ 6.5000e+00,  4.2250e+01],\n",
       "       [ 6.1000e+00,  3.7210e+01],\n",
       "       [ 5.4000e+00,  2.9160e+01],\n",
       "       [ 7.4000e+00,  5.4760e+01],\n",
       "       [ 6.7000e+00,  4.4890e+01],\n",
       "       [ 6.7000e+00,  4.4890e+01],\n",
       "       [ 6.4000e+00,  4.0960e+01],\n",
       "       [ 5.6000e+00,  3.1360e+01],\n",
       "       [ 5.5000e+00,  3.0250e+01],\n",
       "       [ 5.7000e+00,  3.2490e+01],\n",
       "       [ 5.5000e+00,  3.0250e+01],\n",
       "       [ 6.3000e+00,  3.9690e+01],\n",
       "       [ 6.2000e+00,  3.8440e+01],\n",
       "       [ 5.8000e+00,  3.3640e+01],\n",
       "       [ 4.8000e+00,  2.3040e+01],\n",
       "       [ 6.0000e+00,  3.6000e+01],\n",
       "       [ 5.8000e+00,  3.3640e+01],\n",
       "       [ 5.8000e+00,  3.3640e+01],\n",
       "       [ 5.0000e+00,  2.5000e+01],\n",
       "       [ 4.7000e+00,  2.2090e+01],\n",
       "       [ 4.6000e+00,  2.1160e+01],\n",
       "       [ 4.5000e+00,  2.0250e+01],\n",
       "       [ 5.0000e+00,  2.5000e+01],\n",
       "       [ 5.7000e+00,  3.2490e+01],\n",
       "       [ 5.1000e+00,  2.6010e+01],\n",
       "       [ 4.9000e+00,  2.4010e+01],\n",
       "       [ 3.9000e+00,  1.5210e+01],\n",
       "       [ 5.8000e+00,  3.3640e+01],\n",
       "       [ 6.2000e+00,  3.8440e+01],\n",
       "       [ 6.2000e+00,  3.8440e+01],\n",
       "       [ 5.6000e+00,  3.1360e+01],\n",
       "       [ 5.3000e+00,  2.8090e+01],\n",
       "       [ 5.2000e+00,  2.7040e+01],\n",
       "       [ 4.6000e+00,  2.1160e+01],\n",
       "       [ 5.2000e+00,  2.7040e+01],\n",
       "       [ 5.7000e+00,  3.2490e+01],\n",
       "       [ 5.6000e+00,  3.1360e+01],\n",
       "       [ 5.3000e+00,  2.8090e+01],\n",
       "       [ 4.7000e+00,  2.2090e+01],\n",
       "       [ 6.3000e+00,  3.9690e+01],\n",
       "       [ 6.4000e+00,  4.0960e+01],\n",
       "       [ 6.3000e+00,  3.9690e+01],\n",
       "       [ 6.1000e+00,  3.7210e+01],\n",
       "       [ 5.5000e+00,  3.0250e+01],\n",
       "       [ 5.5000e+00,  3.0250e+01],\n",
       "       [ 5.8000e+00,  3.3640e+01],\n",
       "       [ 6.6000e+00,  4.3560e+01],\n",
       "       [ 7.2000e+00,  5.1840e+01],\n",
       "       [ 6.8000e+00,  4.6240e+01],\n",
       "       [ 6.2000e+00,  3.8440e+01],\n",
       "       [ 4.6000e+00,  2.1160e+01],\n",
       "       [ 7.2000e+00,  5.1840e+01],\n",
       "       [ 6.1000e+00,  3.7210e+01],\n",
       "       [ 5.8000e+00,  3.3640e+01],\n",
       "       [ 5.7000e+00,  3.2490e+01],\n",
       "       [ 5.2000e+00,  2.7040e+01],\n",
       "       [ 5.1000e+00,  2.6010e+01],\n",
       "       [ 5.4000e+00,  2.9160e+01],\n",
       "       [ 5.3000e+00,  2.8090e+01],\n",
       "       [ 6.2000e+00,  3.8440e+01],\n",
       "       [ 5.5000e+00,  3.0250e+01],\n",
       "       [ 4.8000e+00,  2.3040e+01],\n",
       "       [ 4.2000e+00,  1.7640e+01],\n",
       "       [ 6.3000e+00,  3.9690e+01],\n",
       "       [ 5.2000e+00,  2.7040e+01],\n",
       "       [ 5.3000e+00,  2.8090e+01],\n",
       "       [ 5.1000e+00,  2.6010e+01],\n",
       "       [ 4.4000e+00,  1.9360e+01],\n",
       "       [ 4.6000e+00,  2.1160e+01],\n",
       "       [ 4.8000e+00,  2.3040e+01],\n",
       "       [ 4.8000e+00,  2.3040e+01],\n",
       "       [ 5.5000e+00,  3.0250e+01],\n",
       "       [ 5.0000e+00,  2.5000e+01],\n",
       "       [ 4.6000e+00,  2.1160e+01],\n",
       "       [ 4.2000e+00,  1.7640e+01],\n",
       "       [ 6.0000e+00,  3.6000e+01],\n",
       "       [ 5.3000e+00,  2.8090e+01],\n",
       "       [ 5.8000e+00,  3.3640e+01],\n",
       "       [ 5.2000e+00,  2.7040e+01],\n",
       "       [ 4.7000e+00,  2.2090e+01],\n",
       "       [ 4.8000e+00,  2.3040e+01],\n",
       "       [ 4.6000e+00,  2.1160e+01],\n",
       "       [ 4.9000e+00,  2.4010e+01],\n",
       "       [ 5.9000e+00,  3.4810e+01],\n",
       "       [ 5.9000e+00,  3.4810e+01],\n",
       "       [ 5.8000e+00,  3.3640e+01],\n",
       "       [ 3.7000e+00,  1.3690e+01],\n",
       "       [ 6.8000e+00,  4.6240e+01],\n",
       "       [ 5.0000e+00,  2.5000e+01],\n",
       "       [ 5.5000e+00,  3.0250e+01],\n",
       "       [ 5.4000e+00,  2.9160e+01],\n",
       "       [ 4.8000e+00,  2.3040e+01],\n",
       "       [ 4.6000e+00,  2.1160e+01],\n",
       "       [ 4.9000e+00,  2.4010e+01],\n",
       "       [ 5.0000e+00,  2.5000e+01],\n",
       "       [ 5.3000e+00,  2.8090e+01],\n",
       "       [ 4.9000e+00,  2.4010e+01],\n",
       "       [ 4.7000e+00,  2.2090e+01],\n",
       "       [ 3.6000e+00,  1.2960e+01],\n",
       "       [ 5.9000e+00,  3.4810e+01],\n",
       "       [ 5.1000e+00,  2.6010e+01],\n",
       "       [ 5.4000e+00,  2.9160e+01],\n",
       "       [ 5.2000e+00,  2.7040e+01],\n",
       "       [ 5.0000e+00,  2.5000e+01],\n",
       "       [ 5.2000e+00,  2.7040e+01],\n",
       "       [ 5.5000e+00,  3.0250e+01],\n",
       "       [ 5.4000e+00,  2.9160e+01],\n",
       "       [ 5.9000e+00,  3.4810e+01],\n",
       "       [ 5.2000e+00,  2.7040e+01],\n",
       "       [ 5.1000e+00,  2.6010e+01],\n",
       "       [ 3.6000e+00,  1.2960e+01],\n",
       "       [ 5.5000e+00,  3.0250e+01],\n",
       "       [ 4.7000e+00,  2.2090e+01],\n",
       "       [ 4.1000e+00,  1.6810e+01],\n",
       "       [ 4.5000e+00,  2.0250e+01],\n",
       "       [ 4.0000e+00,  1.6000e+01],\n",
       "       [ 4.0000e+00,  1.6000e+01],\n",
       "       [ 4.1000e+00,  1.6810e+01],\n",
       "       [ 4.2000e+00,  1.7640e+01],\n",
       "       [ 4.5000e+00,  2.0250e+01],\n",
       "       [ 3.9000e+00,  1.5210e+01],\n",
       "       [ 3.8000e+00,  1.4440e+01],\n",
       "       [ 3.0000e+00,  9.0000e+00],\n",
       "       [ 5.2000e+00,  2.7040e+01],\n",
       "       [ 4.2000e+00,  1.7640e+01],\n",
       "       [ 4.0000e+00,  1.6000e+01],\n",
       "       [ 4.5000e+00,  2.0250e+01],\n",
       "       [ 3.9000e+00,  1.5210e+01],\n",
       "       [ 3.9000e+00,  1.5210e+01],\n",
       "       [ 4.3000e+00,  1.8490e+01],\n",
       "       [ 4.6000e+00,  2.1160e+01],\n",
       "       [ 5.0000e+00,  2.5000e+01],\n",
       "       [ 4.0000e+00,  1.6000e+01],\n",
       "       [ 3.3000e+00,  1.0890e+01],\n",
       "       [ 2.9000e+00,  8.4100e+00],\n",
       "       [ 5.0000e+00,  2.5000e+01],\n",
       "       [ 3.9000e+00,  1.5210e+01],\n",
       "       [ 4.3000e+00,  1.8490e+01],\n",
       "       [ 4.4000e+00,  1.9360e+01],\n",
       "       [ 4.0000e+00,  1.6000e+01],\n",
       "       [ 4.2000e+00,  1.7640e+01],\n",
       "       [ 4.1000e+00,  1.6810e+01],\n",
       "       [ 4.1000e+00,  1.6810e+01],\n",
       "       [ 4.0000e+00,  1.6000e+01],\n",
       "       [ 3.9000e+00,  1.5210e+01],\n",
       "       [ 3.6000e+00,  1.2960e+01],\n",
       "       [ 2.8000e+00,  7.8400e+00],\n",
       "       [ 4.3000e+00,  1.8490e+01],\n",
       "       [ 3.4000e+00,  1.1560e+01],\n",
       "       [ 3.9000e+00,  1.5210e+01],\n",
       "       [ 3.6000e+00,  1.2960e+01],\n",
       "       [ 3.2000e+00,  1.0240e+01],\n",
       "       [ 3.7000e+00,  1.3690e+01],\n",
       "       [ 3.7000e+00,  1.3690e+01],\n",
       "       [ 3.1000e+00,  9.6100e+00],\n",
       "       [ 3.7000e+00,  1.3690e+01],\n",
       "       [ 2.8000e+00,  7.8400e+00],\n",
       "       [ 2.4000e+00,  5.7600e+00],\n",
       "       [ 1.4000e+00,  1.9600e+00],\n",
       "       [ 3.0000e+00,  9.0000e+00],\n",
       "       [ 2.9000e+00,  8.4100e+00],\n",
       "       [ 3.0000e+00,  9.0000e+00],\n",
       "       [ 2.6000e+00,  6.7600e+00],\n",
       "       [ 2.2000e+00,  4.8400e+00],\n",
       "       [ 2.5000e+00,  6.2500e+00],\n",
       "       [ 2.3000e+00,  5.2900e+00],\n",
       "       [ 2.5000e+00,  6.2500e+00],\n",
       "       [ 2.6000e+00,  6.7600e+00],\n",
       "       [ 1.6000e+00,  2.5600e+00],\n",
       "       [ 1.7000e+00,  2.8900e+00],\n",
       "       [ 9.0000e-01,  8.1000e-01],\n",
       "       [ 1.3000e+00,  1.6900e+00],\n",
       "       [ 1.3000e+00,  1.6900e+00],\n",
       "       [ 1.8000e+00,  3.2400e+00],\n",
       "       [ 1.6000e+00,  2.5600e+00],\n",
       "       [ 1.7000e+00,  2.8900e+00],\n",
       "       [ 1.5000e+00,  2.2500e+00],\n",
       "       [ 1.5000e+00,  2.2500e+00],\n",
       "       [ 1.4000e+00,  1.9600e+00],\n",
       "       [ 1.6000e+00,  2.5600e+00],\n",
       "       [ 1.2000e+00,  1.4400e+00],\n",
       "       [ 1.2000e+00,  1.4400e+00],\n",
       "       [ 0.0000e+00,  0.0000e+00],\n",
       "       [ 1.6000e+00,  2.5600e+00],\n",
       "       [ 1.6000e+00,  2.5600e+00],\n",
       "       [ 1.3000e+00,  1.6900e+00],\n",
       "       [ 1.4000e+00,  1.9600e+00],\n",
       "       [ 1.1000e+00,  1.2100e+00],\n",
       "       [ 1.1000e+00,  1.2100e+00],\n",
       "       [ 1.3000e+00,  1.6900e+00],\n",
       "       [ 9.0000e-01,  8.1000e-01],\n",
       "       [ 9.0000e-01,  8.1000e-01],\n",
       "       [ 9.0000e-01,  8.1000e-01],\n",
       "       [ 5.0000e-01,  2.5000e-01],\n",
       "       [-3.0000e-01,  9.0000e-02],\n",
       "       [ 6.0000e-01,  3.6000e-01],\n",
       "       [ 2.0000e-01,  4.0000e-02],\n",
       "       [ 3.0000e-01,  9.0000e-02],\n",
       "       [ 6.0000e-01,  3.6000e-01],\n",
       "       [ 4.0000e-01,  1.6000e-01],\n",
       "       [ 5.0000e-01,  2.5000e-01],\n",
       "       [ 4.0000e-01,  1.6000e-01],\n",
       "       [ 2.0000e-01,  4.0000e-02],\n",
       "       [ 5.0000e-01,  2.5000e-01],\n",
       "       [-2.0000e-01,  4.0000e-02],\n",
       "       [-4.0000e-01,  1.6000e-01],\n",
       "       [-7.0000e-01,  4.9000e-01],\n",
       "       [ 4.0000e-01,  1.6000e-01],\n",
       "       [ 1.0000e-01,  1.0000e-02],\n",
       "       [ 3.0000e-01,  9.0000e-02],\n",
       "       [ 4.0000e-01,  1.6000e-01],\n",
       "       [ 0.0000e+00,  0.0000e+00],\n",
       "       [ 2.0000e-01,  4.0000e-02],\n",
       "       [-2.0000e-01,  4.0000e-02],\n",
       "       [-1.0000e-01,  1.0000e-02],\n",
       "       [-2.0000e-01,  4.0000e-02],\n",
       "       [-8.0000e-01,  6.4000e-01],\n",
       "       [-1.3000e+00,  1.6900e+00],\n",
       "       [-2.9000e+00,  8.4100e+00],\n",
       "       [-5.0000e-01,  2.5000e-01],\n",
       "       [-1.5000e+00,  2.2500e+00],\n",
       "       [-3.2000e+00,  1.0240e+01],\n",
       "       [-2.3000e+00,  5.2900e+00],\n",
       "       [-1.0000e+00,  1.0000e+00],\n",
       "       [-6.0000e-01,  3.6000e-01]])"
      ]
     },
     "execution_count": 269,
     "metadata": {},
     "output_type": "execute_result"
    }
   ],
   "source": [
    "# assign new variable, return\n",
    "\n",
    "x_ = transformer.transform(x)\n",
    "x_ = PolynomialFeatures(degree=2, include_bias=False).fit_transform(x)\n",
    "x_"
   ]
  },
  {
   "cell_type": "code",
   "execution_count": 270,
   "id": "cfffb769-6b2b-49e3-b692-b24824de92cc",
   "metadata": {
    "tags": []
   },
   "outputs": [],
   "source": [
    "# fit new variable to y\n",
    "\n",
    "model = LinearRegression().fit(x_, y)"
   ]
  },
  {
   "cell_type": "code",
   "execution_count": 271,
   "id": "f755af01-a4da-45da-b91c-32d9b93eccaf",
   "metadata": {
    "tags": []
   },
   "outputs": [
    {
     "name": "stdout",
     "output_type": "stream",
     "text": [
      "coefficient of determination: 0.9808550068470339\n"
     ]
    }
   ],
   "source": [
    "# return coefficient of determination\n",
    "\n",
    "r_sq = model.score(x_, y)\n",
    "print(f\"coefficient of determination: {r_sq}\")"
   ]
  },
  {
   "cell_type": "code",
   "execution_count": 272,
   "id": "5e93a25b-d470-450c-b0aa-1582212ba9e2",
   "metadata": {
    "tags": []
   },
   "outputs": [
    {
     "name": "stdout",
     "output_type": "stream",
     "text": [
      "intertercept: 5.125689303054166\n"
     ]
    }
   ],
   "source": [
    "# return intercept\n",
    "\n",
    "print(f\"intertercept: {model.intercept_}\")"
   ]
  },
  {
   "cell_type": "code",
   "execution_count": 273,
   "id": "281267b8-33e7-45d2-8fbf-7e0b470a2535",
   "metadata": {
    "tags": []
   },
   "outputs": [
    {
     "name": "stdout",
     "output_type": "stream",
     "text": [
      "coeffients: [0.62670069 0.02599732]\n"
     ]
    }
   ],
   "source": [
    "# return coefficients\n",
    "\n",
    "print(f\"coeffients: {model.coef_}\")"
   ]
  },
  {
   "cell_type": "code",
   "execution_count": 274,
   "id": "951e77c0-045b-4c04-adc1-ab8c19f79fe9",
   "metadata": {
    "tags": []
   },
   "outputs": [
    {
     "data": {
      "text/plain": [
       "array([[ 1.0000e+00,  1.0300e+01,  1.0609e+02],\n",
       "       [ 1.0000e+00,  1.0500e+01,  1.1025e+02],\n",
       "       [ 1.0000e+00,  1.0400e+01,  1.0816e+02],\n",
       "       [ 1.0000e+00,  9.0000e+00,  8.1000e+01],\n",
       "       [ 1.0000e+00,  8.9000e+00,  7.9210e+01],\n",
       "       [ 1.0000e+00,  8.0000e+00,  6.4000e+01],\n",
       "       [ 1.0000e+00,  7.9000e+00,  6.2410e+01],\n",
       "       [ 1.0000e+00,  8.4000e+00,  7.0560e+01],\n",
       "       [ 1.0000e+00,  9.3000e+00,  8.6490e+01],\n",
       "       [ 1.0000e+00,  9.4000e+00,  8.8360e+01],\n",
       "       [ 1.0000e+00,  9.2000e+00,  8.4640e+01],\n",
       "       [ 1.0000e+00,  8.1000e+00,  6.5610e+01],\n",
       "       [ 1.0000e+00,  9.9000e+00,  9.8010e+01],\n",
       "       [ 1.0000e+00,  9.0000e+00,  8.1000e+01],\n",
       "       [ 1.0000e+00,  8.6000e+00,  7.3960e+01],\n",
       "       [ 1.0000e+00,  7.8000e+00,  6.0840e+01],\n",
       "       [ 1.0000e+00,  7.3000e+00,  5.3290e+01],\n",
       "       [ 1.0000e+00,  6.3000e+00,  3.9690e+01],\n",
       "       [ 1.0000e+00,  6.2000e+00,  3.8440e+01],\n",
       "       [ 1.0000e+00,  7.0000e+00,  4.9000e+01],\n",
       "       [ 1.0000e+00,  7.4000e+00,  5.4760e+01],\n",
       "       [ 1.0000e+00,  6.8000e+00,  4.6240e+01],\n",
       "       [ 1.0000e+00,  6.6000e+00,  4.3560e+01],\n",
       "       [ 1.0000e+00,  6.0000e+00,  3.6000e+01],\n",
       "       [ 1.0000e+00,  7.8000e+00,  6.0840e+01],\n",
       "       [ 1.0000e+00,  7.7000e+00,  5.9290e+01],\n",
       "       [ 1.0000e+00,  7.4000e+00,  5.4760e+01],\n",
       "       [ 1.0000e+00,  6.6000e+00,  4.3560e+01],\n",
       "       [ 1.0000e+00,  6.4000e+00,  4.0960e+01],\n",
       "       [ 1.0000e+00,  5.7000e+00,  3.2490e+01],\n",
       "       [ 1.0000e+00,  6.0000e+00,  3.6000e+01],\n",
       "       [ 1.0000e+00,  5.9000e+00,  3.4810e+01],\n",
       "       [ 1.0000e+00,  5.9000e+00,  3.4810e+01],\n",
       "       [ 1.0000e+00,  5.5000e+00,  3.0250e+01],\n",
       "       [ 1.0000e+00,  5.1000e+00,  2.6010e+01],\n",
       "       [ 1.0000e+00,  4.0000e+00,  1.6000e+01],\n",
       "       [ 1.0000e+00,  6.8000e+00,  4.6240e+01],\n",
       "       [ 1.0000e+00,  7.3000e+00,  5.3290e+01],\n",
       "       [ 1.0000e+00,  6.9000e+00,  4.7610e+01],\n",
       "       [ 1.0000e+00,  6.5000e+00,  4.2250e+01],\n",
       "       [ 1.0000e+00,  6.2000e+00,  3.8440e+01],\n",
       "       [ 1.0000e+00,  5.6000e+00,  3.1360e+01],\n",
       "       [ 1.0000e+00,  5.4000e+00,  2.9160e+01],\n",
       "       [ 1.0000e+00,  5.3000e+00,  2.8090e+01],\n",
       "       [ 1.0000e+00,  6.3000e+00,  3.9690e+01],\n",
       "       [ 1.0000e+00,  6.5000e+00,  4.2250e+01],\n",
       "       [ 1.0000e+00,  6.1000e+00,  3.7210e+01],\n",
       "       [ 1.0000e+00,  5.4000e+00,  2.9160e+01],\n",
       "       [ 1.0000e+00,  7.4000e+00,  5.4760e+01],\n",
       "       [ 1.0000e+00,  6.7000e+00,  4.4890e+01],\n",
       "       [ 1.0000e+00,  6.7000e+00,  4.4890e+01],\n",
       "       [ 1.0000e+00,  6.4000e+00,  4.0960e+01],\n",
       "       [ 1.0000e+00,  5.6000e+00,  3.1360e+01],\n",
       "       [ 1.0000e+00,  5.5000e+00,  3.0250e+01],\n",
       "       [ 1.0000e+00,  5.7000e+00,  3.2490e+01],\n",
       "       [ 1.0000e+00,  5.5000e+00,  3.0250e+01],\n",
       "       [ 1.0000e+00,  6.3000e+00,  3.9690e+01],\n",
       "       [ 1.0000e+00,  6.2000e+00,  3.8440e+01],\n",
       "       [ 1.0000e+00,  5.8000e+00,  3.3640e+01],\n",
       "       [ 1.0000e+00,  4.8000e+00,  2.3040e+01],\n",
       "       [ 1.0000e+00,  6.0000e+00,  3.6000e+01],\n",
       "       [ 1.0000e+00,  5.8000e+00,  3.3640e+01],\n",
       "       [ 1.0000e+00,  5.8000e+00,  3.3640e+01],\n",
       "       [ 1.0000e+00,  5.0000e+00,  2.5000e+01],\n",
       "       [ 1.0000e+00,  4.7000e+00,  2.2090e+01],\n",
       "       [ 1.0000e+00,  4.6000e+00,  2.1160e+01],\n",
       "       [ 1.0000e+00,  4.5000e+00,  2.0250e+01],\n",
       "       [ 1.0000e+00,  5.0000e+00,  2.5000e+01],\n",
       "       [ 1.0000e+00,  5.7000e+00,  3.2490e+01],\n",
       "       [ 1.0000e+00,  5.1000e+00,  2.6010e+01],\n",
       "       [ 1.0000e+00,  4.9000e+00,  2.4010e+01],\n",
       "       [ 1.0000e+00,  3.9000e+00,  1.5210e+01],\n",
       "       [ 1.0000e+00,  5.8000e+00,  3.3640e+01],\n",
       "       [ 1.0000e+00,  6.2000e+00,  3.8440e+01],\n",
       "       [ 1.0000e+00,  6.2000e+00,  3.8440e+01],\n",
       "       [ 1.0000e+00,  5.6000e+00,  3.1360e+01],\n",
       "       [ 1.0000e+00,  5.3000e+00,  2.8090e+01],\n",
       "       [ 1.0000e+00,  5.2000e+00,  2.7040e+01],\n",
       "       [ 1.0000e+00,  4.6000e+00,  2.1160e+01],\n",
       "       [ 1.0000e+00,  5.2000e+00,  2.7040e+01],\n",
       "       [ 1.0000e+00,  5.7000e+00,  3.2490e+01],\n",
       "       [ 1.0000e+00,  5.6000e+00,  3.1360e+01],\n",
       "       [ 1.0000e+00,  5.3000e+00,  2.8090e+01],\n",
       "       [ 1.0000e+00,  4.7000e+00,  2.2090e+01],\n",
       "       [ 1.0000e+00,  6.3000e+00,  3.9690e+01],\n",
       "       [ 1.0000e+00,  6.4000e+00,  4.0960e+01],\n",
       "       [ 1.0000e+00,  6.3000e+00,  3.9690e+01],\n",
       "       [ 1.0000e+00,  6.1000e+00,  3.7210e+01],\n",
       "       [ 1.0000e+00,  5.5000e+00,  3.0250e+01],\n",
       "       [ 1.0000e+00,  5.5000e+00,  3.0250e+01],\n",
       "       [ 1.0000e+00,  5.8000e+00,  3.3640e+01],\n",
       "       [ 1.0000e+00,  6.6000e+00,  4.3560e+01],\n",
       "       [ 1.0000e+00,  7.2000e+00,  5.1840e+01],\n",
       "       [ 1.0000e+00,  6.8000e+00,  4.6240e+01],\n",
       "       [ 1.0000e+00,  6.2000e+00,  3.8440e+01],\n",
       "       [ 1.0000e+00,  4.6000e+00,  2.1160e+01],\n",
       "       [ 1.0000e+00,  7.2000e+00,  5.1840e+01],\n",
       "       [ 1.0000e+00,  6.1000e+00,  3.7210e+01],\n",
       "       [ 1.0000e+00,  5.8000e+00,  3.3640e+01],\n",
       "       [ 1.0000e+00,  5.7000e+00,  3.2490e+01],\n",
       "       [ 1.0000e+00,  5.2000e+00,  2.7040e+01],\n",
       "       [ 1.0000e+00,  5.1000e+00,  2.6010e+01],\n",
       "       [ 1.0000e+00,  5.4000e+00,  2.9160e+01],\n",
       "       [ 1.0000e+00,  5.3000e+00,  2.8090e+01],\n",
       "       [ 1.0000e+00,  6.2000e+00,  3.8440e+01],\n",
       "       [ 1.0000e+00,  5.5000e+00,  3.0250e+01],\n",
       "       [ 1.0000e+00,  4.8000e+00,  2.3040e+01],\n",
       "       [ 1.0000e+00,  4.2000e+00,  1.7640e+01],\n",
       "       [ 1.0000e+00,  6.3000e+00,  3.9690e+01],\n",
       "       [ 1.0000e+00,  5.2000e+00,  2.7040e+01],\n",
       "       [ 1.0000e+00,  5.3000e+00,  2.8090e+01],\n",
       "       [ 1.0000e+00,  5.1000e+00,  2.6010e+01],\n",
       "       [ 1.0000e+00,  4.4000e+00,  1.9360e+01],\n",
       "       [ 1.0000e+00,  4.6000e+00,  2.1160e+01],\n",
       "       [ 1.0000e+00,  4.8000e+00,  2.3040e+01],\n",
       "       [ 1.0000e+00,  4.8000e+00,  2.3040e+01],\n",
       "       [ 1.0000e+00,  5.5000e+00,  3.0250e+01],\n",
       "       [ 1.0000e+00,  5.0000e+00,  2.5000e+01],\n",
       "       [ 1.0000e+00,  4.6000e+00,  2.1160e+01],\n",
       "       [ 1.0000e+00,  4.2000e+00,  1.7640e+01],\n",
       "       [ 1.0000e+00,  6.0000e+00,  3.6000e+01],\n",
       "       [ 1.0000e+00,  5.3000e+00,  2.8090e+01],\n",
       "       [ 1.0000e+00,  5.8000e+00,  3.3640e+01],\n",
       "       [ 1.0000e+00,  5.2000e+00,  2.7040e+01],\n",
       "       [ 1.0000e+00,  4.7000e+00,  2.2090e+01],\n",
       "       [ 1.0000e+00,  4.8000e+00,  2.3040e+01],\n",
       "       [ 1.0000e+00,  4.6000e+00,  2.1160e+01],\n",
       "       [ 1.0000e+00,  4.9000e+00,  2.4010e+01],\n",
       "       [ 1.0000e+00,  5.9000e+00,  3.4810e+01],\n",
       "       [ 1.0000e+00,  5.9000e+00,  3.4810e+01],\n",
       "       [ 1.0000e+00,  5.8000e+00,  3.3640e+01],\n",
       "       [ 1.0000e+00,  3.7000e+00,  1.3690e+01],\n",
       "       [ 1.0000e+00,  6.8000e+00,  4.6240e+01],\n",
       "       [ 1.0000e+00,  5.0000e+00,  2.5000e+01],\n",
       "       [ 1.0000e+00,  5.5000e+00,  3.0250e+01],\n",
       "       [ 1.0000e+00,  5.4000e+00,  2.9160e+01],\n",
       "       [ 1.0000e+00,  4.8000e+00,  2.3040e+01],\n",
       "       [ 1.0000e+00,  4.6000e+00,  2.1160e+01],\n",
       "       [ 1.0000e+00,  4.9000e+00,  2.4010e+01],\n",
       "       [ 1.0000e+00,  5.0000e+00,  2.5000e+01],\n",
       "       [ 1.0000e+00,  5.3000e+00,  2.8090e+01],\n",
       "       [ 1.0000e+00,  4.9000e+00,  2.4010e+01],\n",
       "       [ 1.0000e+00,  4.7000e+00,  2.2090e+01],\n",
       "       [ 1.0000e+00,  3.6000e+00,  1.2960e+01],\n",
       "       [ 1.0000e+00,  5.9000e+00,  3.4810e+01],\n",
       "       [ 1.0000e+00,  5.1000e+00,  2.6010e+01],\n",
       "       [ 1.0000e+00,  5.4000e+00,  2.9160e+01],\n",
       "       [ 1.0000e+00,  5.2000e+00,  2.7040e+01],\n",
       "       [ 1.0000e+00,  5.0000e+00,  2.5000e+01],\n",
       "       [ 1.0000e+00,  5.2000e+00,  2.7040e+01],\n",
       "       [ 1.0000e+00,  5.5000e+00,  3.0250e+01],\n",
       "       [ 1.0000e+00,  5.4000e+00,  2.9160e+01],\n",
       "       [ 1.0000e+00,  5.9000e+00,  3.4810e+01],\n",
       "       [ 1.0000e+00,  5.2000e+00,  2.7040e+01],\n",
       "       [ 1.0000e+00,  5.1000e+00,  2.6010e+01],\n",
       "       [ 1.0000e+00,  3.6000e+00,  1.2960e+01],\n",
       "       [ 1.0000e+00,  5.5000e+00,  3.0250e+01],\n",
       "       [ 1.0000e+00,  4.7000e+00,  2.2090e+01],\n",
       "       [ 1.0000e+00,  4.1000e+00,  1.6810e+01],\n",
       "       [ 1.0000e+00,  4.5000e+00,  2.0250e+01],\n",
       "       [ 1.0000e+00,  4.0000e+00,  1.6000e+01],\n",
       "       [ 1.0000e+00,  4.0000e+00,  1.6000e+01],\n",
       "       [ 1.0000e+00,  4.1000e+00,  1.6810e+01],\n",
       "       [ 1.0000e+00,  4.2000e+00,  1.7640e+01],\n",
       "       [ 1.0000e+00,  4.5000e+00,  2.0250e+01],\n",
       "       [ 1.0000e+00,  3.9000e+00,  1.5210e+01],\n",
       "       [ 1.0000e+00,  3.8000e+00,  1.4440e+01],\n",
       "       [ 1.0000e+00,  3.0000e+00,  9.0000e+00],\n",
       "       [ 1.0000e+00,  5.2000e+00,  2.7040e+01],\n",
       "       [ 1.0000e+00,  4.2000e+00,  1.7640e+01],\n",
       "       [ 1.0000e+00,  4.0000e+00,  1.6000e+01],\n",
       "       [ 1.0000e+00,  4.5000e+00,  2.0250e+01],\n",
       "       [ 1.0000e+00,  3.9000e+00,  1.5210e+01],\n",
       "       [ 1.0000e+00,  3.9000e+00,  1.5210e+01],\n",
       "       [ 1.0000e+00,  4.3000e+00,  1.8490e+01],\n",
       "       [ 1.0000e+00,  4.6000e+00,  2.1160e+01],\n",
       "       [ 1.0000e+00,  5.0000e+00,  2.5000e+01],\n",
       "       [ 1.0000e+00,  4.0000e+00,  1.6000e+01],\n",
       "       [ 1.0000e+00,  3.3000e+00,  1.0890e+01],\n",
       "       [ 1.0000e+00,  2.9000e+00,  8.4100e+00],\n",
       "       [ 1.0000e+00,  5.0000e+00,  2.5000e+01],\n",
       "       [ 1.0000e+00,  3.9000e+00,  1.5210e+01],\n",
       "       [ 1.0000e+00,  4.3000e+00,  1.8490e+01],\n",
       "       [ 1.0000e+00,  4.4000e+00,  1.9360e+01],\n",
       "       [ 1.0000e+00,  4.0000e+00,  1.6000e+01],\n",
       "       [ 1.0000e+00,  4.2000e+00,  1.7640e+01],\n",
       "       [ 1.0000e+00,  4.1000e+00,  1.6810e+01],\n",
       "       [ 1.0000e+00,  4.1000e+00,  1.6810e+01],\n",
       "       [ 1.0000e+00,  4.0000e+00,  1.6000e+01],\n",
       "       [ 1.0000e+00,  3.9000e+00,  1.5210e+01],\n",
       "       [ 1.0000e+00,  3.6000e+00,  1.2960e+01],\n",
       "       [ 1.0000e+00,  2.8000e+00,  7.8400e+00],\n",
       "       [ 1.0000e+00,  4.3000e+00,  1.8490e+01],\n",
       "       [ 1.0000e+00,  3.4000e+00,  1.1560e+01],\n",
       "       [ 1.0000e+00,  3.9000e+00,  1.5210e+01],\n",
       "       [ 1.0000e+00,  3.6000e+00,  1.2960e+01],\n",
       "       [ 1.0000e+00,  3.2000e+00,  1.0240e+01],\n",
       "       [ 1.0000e+00,  3.7000e+00,  1.3690e+01],\n",
       "       [ 1.0000e+00,  3.7000e+00,  1.3690e+01],\n",
       "       [ 1.0000e+00,  3.1000e+00,  9.6100e+00],\n",
       "       [ 1.0000e+00,  3.7000e+00,  1.3690e+01],\n",
       "       [ 1.0000e+00,  2.8000e+00,  7.8400e+00],\n",
       "       [ 1.0000e+00,  2.4000e+00,  5.7600e+00],\n",
       "       [ 1.0000e+00,  1.4000e+00,  1.9600e+00],\n",
       "       [ 1.0000e+00,  3.0000e+00,  9.0000e+00],\n",
       "       [ 1.0000e+00,  2.9000e+00,  8.4100e+00],\n",
       "       [ 1.0000e+00,  3.0000e+00,  9.0000e+00],\n",
       "       [ 1.0000e+00,  2.6000e+00,  6.7600e+00],\n",
       "       [ 1.0000e+00,  2.2000e+00,  4.8400e+00],\n",
       "       [ 1.0000e+00,  2.5000e+00,  6.2500e+00],\n",
       "       [ 1.0000e+00,  2.3000e+00,  5.2900e+00],\n",
       "       [ 1.0000e+00,  2.5000e+00,  6.2500e+00],\n",
       "       [ 1.0000e+00,  2.6000e+00,  6.7600e+00],\n",
       "       [ 1.0000e+00,  1.6000e+00,  2.5600e+00],\n",
       "       [ 1.0000e+00,  1.7000e+00,  2.8900e+00],\n",
       "       [ 1.0000e+00,  9.0000e-01,  8.1000e-01],\n",
       "       [ 1.0000e+00,  1.3000e+00,  1.6900e+00],\n",
       "       [ 1.0000e+00,  1.3000e+00,  1.6900e+00],\n",
       "       [ 1.0000e+00,  1.8000e+00,  3.2400e+00],\n",
       "       [ 1.0000e+00,  1.6000e+00,  2.5600e+00],\n",
       "       [ 1.0000e+00,  1.7000e+00,  2.8900e+00],\n",
       "       [ 1.0000e+00,  1.5000e+00,  2.2500e+00],\n",
       "       [ 1.0000e+00,  1.5000e+00,  2.2500e+00],\n",
       "       [ 1.0000e+00,  1.4000e+00,  1.9600e+00],\n",
       "       [ 1.0000e+00,  1.6000e+00,  2.5600e+00],\n",
       "       [ 1.0000e+00,  1.2000e+00,  1.4400e+00],\n",
       "       [ 1.0000e+00,  1.2000e+00,  1.4400e+00],\n",
       "       [ 1.0000e+00,  0.0000e+00,  0.0000e+00],\n",
       "       [ 1.0000e+00,  1.6000e+00,  2.5600e+00],\n",
       "       [ 1.0000e+00,  1.6000e+00,  2.5600e+00],\n",
       "       [ 1.0000e+00,  1.3000e+00,  1.6900e+00],\n",
       "       [ 1.0000e+00,  1.4000e+00,  1.9600e+00],\n",
       "       [ 1.0000e+00,  1.1000e+00,  1.2100e+00],\n",
       "       [ 1.0000e+00,  1.1000e+00,  1.2100e+00],\n",
       "       [ 1.0000e+00,  1.3000e+00,  1.6900e+00],\n",
       "       [ 1.0000e+00,  9.0000e-01,  8.1000e-01],\n",
       "       [ 1.0000e+00,  9.0000e-01,  8.1000e-01],\n",
       "       [ 1.0000e+00,  9.0000e-01,  8.1000e-01],\n",
       "       [ 1.0000e+00,  5.0000e-01,  2.5000e-01],\n",
       "       [ 1.0000e+00, -3.0000e-01,  9.0000e-02],\n",
       "       [ 1.0000e+00,  6.0000e-01,  3.6000e-01],\n",
       "       [ 1.0000e+00,  2.0000e-01,  4.0000e-02],\n",
       "       [ 1.0000e+00,  3.0000e-01,  9.0000e-02],\n",
       "       [ 1.0000e+00,  6.0000e-01,  3.6000e-01],\n",
       "       [ 1.0000e+00,  4.0000e-01,  1.6000e-01],\n",
       "       [ 1.0000e+00,  5.0000e-01,  2.5000e-01],\n",
       "       [ 1.0000e+00,  4.0000e-01,  1.6000e-01],\n",
       "       [ 1.0000e+00,  2.0000e-01,  4.0000e-02],\n",
       "       [ 1.0000e+00,  5.0000e-01,  2.5000e-01],\n",
       "       [ 1.0000e+00, -2.0000e-01,  4.0000e-02],\n",
       "       [ 1.0000e+00, -4.0000e-01,  1.6000e-01],\n",
       "       [ 1.0000e+00, -7.0000e-01,  4.9000e-01],\n",
       "       [ 1.0000e+00,  4.0000e-01,  1.6000e-01],\n",
       "       [ 1.0000e+00,  1.0000e-01,  1.0000e-02],\n",
       "       [ 1.0000e+00,  3.0000e-01,  9.0000e-02],\n",
       "       [ 1.0000e+00,  4.0000e-01,  1.6000e-01],\n",
       "       [ 1.0000e+00,  0.0000e+00,  0.0000e+00],\n",
       "       [ 1.0000e+00,  2.0000e-01,  4.0000e-02],\n",
       "       [ 1.0000e+00, -2.0000e-01,  4.0000e-02],\n",
       "       [ 1.0000e+00, -1.0000e-01,  1.0000e-02],\n",
       "       [ 1.0000e+00, -2.0000e-01,  4.0000e-02],\n",
       "       [ 1.0000e+00, -8.0000e-01,  6.4000e-01],\n",
       "       [ 1.0000e+00, -1.3000e+00,  1.6900e+00],\n",
       "       [ 1.0000e+00, -2.9000e+00,  8.4100e+00],\n",
       "       [ 1.0000e+00, -5.0000e-01,  2.5000e-01],\n",
       "       [ 1.0000e+00, -1.5000e+00,  2.2500e+00],\n",
       "       [ 1.0000e+00, -3.2000e+00,  1.0240e+01],\n",
       "       [ 1.0000e+00, -2.3000e+00,  5.2900e+00],\n",
       "       [ 1.0000e+00, -1.0000e+00,  1.0000e+00],\n",
       "       [ 1.0000e+00, -6.0000e-01,  3.6000e-01]])"
      ]
     },
     "execution_count": 274,
     "metadata": {},
     "output_type": "execute_result"
    }
   ],
   "source": [
    "# assign new variable\n",
    "\n",
    "x_ = PolynomialFeatures(degree=2, include_bias=True).fit_transform(x)\n",
    "x_"
   ]
  },
  {
   "cell_type": "code",
   "execution_count": 275,
   "id": "93d5e863-ba0c-4426-8e62-13a98b778107",
   "metadata": {
    "tags": []
   },
   "outputs": [],
   "source": [
    "# fit new variable\n",
    "\n",
    "model = LinearRegression(fit_intercept=False).fit(x_, y)"
   ]
  },
  {
   "cell_type": "code",
   "execution_count": 276,
   "id": "4c037d0b-4f00-4294-abb4-954c75fc1f64",
   "metadata": {
    "tags": []
   },
   "outputs": [
    {
     "name": "stdout",
     "output_type": "stream",
     "text": [
      "coefficient of determination: 0.9808550068470339\n"
     ]
    }
   ],
   "source": [
    "# return coefficient of determination\n",
    "\n",
    "r_sq = model.score(x_, y)\n",
    "print(f\"coefficient of determination: {r_sq}\")"
   ]
  },
  {
   "cell_type": "code",
   "execution_count": 277,
   "id": "e366ca1c-c30c-4b67-91be-eb11e02d3a66",
   "metadata": {
    "tags": []
   },
   "outputs": [
    {
     "name": "stdout",
     "output_type": "stream",
     "text": [
      "intercept: 0.0\n"
     ]
    }
   ],
   "source": [
    "# return intercept\n",
    "\n",
    "print(f\"intercept: {model.intercept_}\")"
   ]
  },
  {
   "cell_type": "code",
   "execution_count": 278,
   "id": "cefd5db2-4a0d-4777-b50b-5815b83b8c5a",
   "metadata": {
    "tags": []
   },
   "outputs": [
    {
     "name": "stdout",
     "output_type": "stream",
     "text": [
      "coefficients: [5.1256893  0.62670069 0.02599732]\n"
     ]
    }
   ],
   "source": [
    "# return coefficients\n",
    "\n",
    "print(f\"coefficients: {model.coef_}\")"
   ]
  },
  {
   "cell_type": "code",
   "execution_count": 279,
   "id": "fe1617b9-d821-4202-8cd3-7eb087ea568b",
   "metadata": {
    "tags": []
   },
   "outputs": [
    {
     "name": "stdout",
     "output_type": "stream",
     "text": [
      "predicted response:\n",
      "[14.33876204 14.57225102 14.45524656 12.87177839 12.76257312 11.80312327\n",
      " 11.69911746 12.22434596 13.20251388 13.31379894 13.09174877 11.90764903\n",
      " 13.87802342 12.87177839 12.43807699 11.5956316  11.0860015  10.10573726\n",
      " 10.01057054 10.78646279 11.18688763 10.58937005 10.3943571   9.82179695\n",
      " 11.5956316  11.49266569 11.18688763 10.3943571  10.20142393  9.54253615\n",
      "  9.82179695  9.72819007  9.72819007  9.35896201  8.9980531   8.04844918\n",
      " 10.58937005 11.0860015  10.68765645 10.29763054 10.01057054  9.45048911\n",
      "  9.26795487  9.17746767 10.10573726 10.29763054  9.91592377  9.26795487\n",
      " 11.18688763 10.4916036  10.4916036  10.20142393  9.45048911  9.35896201\n",
      "  9.54253615  9.35896201 10.10573726 10.01057054  9.63510313  8.73283086\n",
      "  9.82179695  9.63510313  9.63510313  8.90912574  8.64546333  8.55861576\n",
      "  8.47228813  8.90912574  9.54253615  8.9980531   8.82071833  7.96524122\n",
      "  9.63510313 10.01057054 10.01057054  9.45048911  9.17746767  9.08750041\n",
      "  8.55861576  9.08750041  9.54253615  9.45048911  9.17746767  8.64546333\n",
      " 10.10573726 10.20142393 10.10573726  9.91592377  9.35896201  9.35896201\n",
      "  9.63510313 10.3943571  10.98563531 10.58937005 10.01057054  8.55861576\n",
      " 10.98563531  9.91592377  9.63510313  9.54253615  9.08750041  8.9980531\n",
      "  9.26795487  9.17746767 10.01057054  9.35896201  8.73283086  8.21642492\n",
      " 10.10573726  9.08750041  9.17746767  8.9980531   8.38648045  8.55861576\n",
      "  8.73283086  8.73283086  9.35896201  8.90912574  8.55861576  8.21642492\n",
      "  9.82179695  9.17746767  9.63510313  9.08750041  8.64546333  8.73283086\n",
      "  8.55861576  8.82071833  9.72819007  9.72819007  9.63510313  7.80038516\n",
      " 10.58937005  8.90912574  9.35896201  9.26795487  8.73283086  8.55861576\n",
      "  8.82071833  8.90912574  9.17746767  8.82071833  8.64546333  7.71873705\n",
      "  9.72819007  8.9980531   9.26795487  9.08750041  8.90912574  9.08750041\n",
      "  9.35896201  9.26795487  9.72819007  9.08750041  8.9980531   7.71873705\n",
      "  9.35896201  8.64546333  8.13217707  8.47228813  8.04844918  8.04844918\n",
      "  8.13217707  8.21642492  8.47228813  7.96524122  7.88255322  7.23976725\n",
      "  9.08750041  8.21642492  8.04844918  8.47228813  7.96524122  7.96524122\n",
      "  8.30119271  8.55861576  8.90912574  8.04844918  7.47691239  7.16175876\n",
      "  8.90912574  7.96524122  8.30119271  8.38648045  8.04844918  8.21642492\n",
      "  8.13217707  8.13217707  8.04844918  7.96524122  7.71873705  7.08427022\n",
      "  8.30119271  7.55700066  7.96524122  7.71873705  7.39734406  7.80038516\n",
      "  7.80038516  7.31829568  7.80038516  7.08427022  6.77951552  6.05402502\n",
      "  7.23976725  7.16175876  7.23976725  6.93085298  6.63025785  6.85492428\n",
      "  6.70462671  6.85492428  6.93085298  6.19496355  6.26621273  5.71077775\n",
      "  5.98433567  5.98433567  6.33798186  6.19496355  6.26621273  6.12423431\n",
      "  6.12423431  6.05402502  6.19496355  5.91516627  5.91516627  5.1256893\n",
      "  6.19496355  6.19496355  5.98433567  6.05402502  5.84651682  5.84651682\n",
      "  5.98433567  5.71077775  5.71077775  5.71077775  5.44553898  4.94001885\n",
      "  5.51106875  5.25206933  5.31603927  5.51106875  5.38052915  5.44553898\n",
      "  5.38052915  5.25206933  5.44553898  5.00138906  4.8791686   4.69973751\n",
      "  5.38052915  5.18861935  5.31603927  5.38052915  5.1256893   5.25206933\n",
      "  5.00138906  5.06327921  5.00138906  4.64096704  4.35491388  3.52689476\n",
      "  4.81883829  4.24413224  3.38645965  3.82180354  4.52498593  4.75902792]\n"
     ]
    }
   ],
   "source": [
    "# return predicted response\n",
    "\n",
    "y_pred = model.predict(x_)\n",
    "print(f\"predicted response:\\n{y_pred}\")"
   ]
  },
  {
   "cell_type": "markdown",
   "id": "1fcf4acd-dc6e-42ad-8b29-b5dbb4555166",
   "metadata": {},
   "source": [
    "# comments"
   ]
  },
  {
   "cell_type": "code",
   "execution_count": 280,
   "id": "c4153b03-a771-4783-a107-61bd92917f59",
   "metadata": {
    "tags": []
   },
   "outputs": [],
   "source": [
    "# The Question\n",
    "## The answers I have set out to find for the question \n",
    "## ‘What are the main causes of the decline in birth rate of the Republic of Korea \n",
    "## has become more complex than I had initially thought. \n",
    "## It is obvious now that It would require more extensive data and additional variables. \n",
    "## Unfortunately the data used in this project was insufficient.\n",
    "\n",
    "# EDA\n",
    "## After having gone through all the required steps for exploratory data analysis, \n",
    "## the results are inconclusive and require further data. \n",
    "## The datasets were incomplete and cover limited time spans. \n",
    "## I would have used a different dataset if I had known earlier, \n",
    "## but due to time constraints, I completed this study with the initial set. \n",
    "## According to the relevant data, \n",
    "## there is a gradual positive or negative correlation with all variables examined. \n",
    "## The most obvious of these were the correlations with birth rate and natural growth rate. \n",
    "## This supports the evidence of the rapid population decrease that the Republic of Korea \n",
    "## is experiencing; this is also likely the main culprit of  this phenomenon. \n",
    "\n",
    "# Missed During Analysis\n",
    "## The available data only spanned several decades from 1970-2020 respectively. \n",
    "## Some variables were even shorter time spans from 2000-2020. \n",
    "## The variables from 1970 had several outliers and were quite erratic, \n",
    "## indicating that there were inaccuracies and missing fields. \n",
    "## Ideally, a study of this kind would require data \n",
    "## that covers at least 100 years to gain any significant insight. \n",
    "\n",
    "# Variables that Would have Helped\n",
    "## There are definitely several additional variables that would have helped in this study. \n",
    "## While the dataset used contained variables that were demographical such as \n",
    "## ‘birth rate’, ‘death rate’, ‘marriage rate’, etc, other variables such as annual income, \n",
    "## real estate value and prices, cost of living, suicide rate, education level, \n",
    "## and happiness (if accurately quantifiable) as constant variables would have been of significance.\n",
    "\n",
    "# Incorrect Assumptions\n",
    "## Aside from the missing gaps of data, most results were assumed and consistent with reality. \n",
    "## It should be mentioned that CDF seemed inaccurate \n",
    "## as it showed an increase in natural growth rate over time.\n",
    "\n",
    "# Challenges\n",
    "## The biggest challenge was to come up with a valid result \n",
    "## and persuasive argument from incomplete data. \n",
    "## The chosen dataset contained relevant variables but were limited in time period. \n",
    "## A study of this nature requires constant variables that cover significant time periods.  \n",
    "## As this was my first time doing EDA, there are many steps that I feel I did not fully understand. \n",
    "## I hope that repetition will help me to better understand what each step is, why it’s necessary, \n",
    "## and to refine more effective ways of executing them. \n",
    "## I had initially planned to use more than one dataset for this project; \n",
    "## however, due to time constraints, I wasn’t able to delve so far.\n",
    "\n",
    "## GIT link: https://github.com/rlawnsdnjs706/DSC530_term.git\n"
   ]
  }
 ],
 "metadata": {
  "kernelspec": {
   "display_name": "Python 3 (ipykernel)",
   "language": "python",
   "name": "python3"
  },
  "language_info": {
   "codemirror_mode": {
    "name": "ipython",
    "version": 3
   },
   "file_extension": ".py",
   "mimetype": "text/x-python",
   "name": "python",
   "nbconvert_exporter": "python",
   "pygments_lexer": "ipython3",
   "version": "3.11.4"
  }
 },
 "nbformat": 4,
 "nbformat_minor": 5
}
